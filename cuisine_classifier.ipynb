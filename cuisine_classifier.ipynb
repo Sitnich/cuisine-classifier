{
  "cells": [
    {
      "cell_type": "markdown",
      "source": [
        "# Подготовка окружения\n",
        "Устанавливаем все зависимости, импортируем библиотеки и загружаем данные"
      ],
      "metadata": {
        "id": "iKPJvx4rDP7H"
      }
    },
    {
      "cell_type": "code",
      "metadata": {
        "tags": [],
        "deepnote_to_be_reexecuted": false,
        "source_hash": "f90fda83",
        "execution_start": 1633731147196,
        "execution_millis": 26499,
        "cell_id": "00002-376ab76e-eef1-4128-a55f-d0e732a5859a",
        "deepnote_cell_type": "code",
        "colab": {
          "base_uri": "https://localhost:8080/"
        },
        "id": "3Wa9J6COxAIo",
        "outputId": "8b8280ea-688a-49e5-c5ad-8eb045bf59b1"
      },
      "source": [
        "import sys\n",
        "\n",
        "!pip install -U spacy\n",
        "!python -m spacy download en_core_web_sm\n",
        "!python -m spacy download en_core_web_trf"
      ],
      "execution_count": 1,
      "outputs": [
        {
          "output_type": "stream",
          "name": "stdout",
          "text": [
            "Requirement already satisfied: spacy in /usr/local/lib/python3.7/dist-packages (2.2.4)\n",
            "Collecting spacy\n",
            "  Downloading spacy-3.2.4-cp37-cp37m-manylinux_2_17_x86_64.manylinux2014_x86_64.whl (6.0 MB)\n",
            "\u001b[K     |████████████████████████████████| 6.0 MB 7.9 MB/s \n",
            "\u001b[?25hRequirement already satisfied: setuptools in /usr/local/lib/python3.7/dist-packages (from spacy) (57.4.0)\n",
            "Requirement already satisfied: blis<0.8.0,>=0.4.0 in /usr/local/lib/python3.7/dist-packages (from spacy) (0.4.1)\n",
            "Requirement already satisfied: jinja2 in /usr/local/lib/python3.7/dist-packages (from spacy) (2.11.3)\n",
            "Collecting pydantic!=1.8,!=1.8.1,<1.9.0,>=1.7.4\n",
            "  Downloading pydantic-1.8.2-cp37-cp37m-manylinux2014_x86_64.whl (10.1 MB)\n",
            "\u001b[K     |████████████████████████████████| 10.1 MB 55.0 MB/s \n",
            "\u001b[?25hCollecting langcodes<4.0.0,>=3.2.0\n",
            "  Downloading langcodes-3.3.0-py3-none-any.whl (181 kB)\n",
            "\u001b[K     |████████████████████████████████| 181 kB 47.6 MB/s \n",
            "\u001b[?25hRequirement already satisfied: click<8.1.0 in /usr/local/lib/python3.7/dist-packages (from spacy) (7.1.2)\n",
            "Collecting spacy-loggers<2.0.0,>=1.0.0\n",
            "  Downloading spacy_loggers-1.0.1-py3-none-any.whl (7.0 kB)\n",
            "Requirement already satisfied: preshed<3.1.0,>=3.0.2 in /usr/local/lib/python3.7/dist-packages (from spacy) (3.0.6)\n",
            "Requirement already satisfied: requests<3.0.0,>=2.13.0 in /usr/local/lib/python3.7/dist-packages (from spacy) (2.23.0)\n",
            "Collecting catalogue<2.1.0,>=2.0.6\n",
            "  Downloading catalogue-2.0.7-py3-none-any.whl (17 kB)\n",
            "Requirement already satisfied: numpy>=1.15.0 in /usr/local/lib/python3.7/dist-packages (from spacy) (1.21.5)\n",
            "Requirement already satisfied: packaging>=20.0 in /usr/local/lib/python3.7/dist-packages (from spacy) (21.3)\n",
            "Requirement already satisfied: wasabi<1.1.0,>=0.8.1 in /usr/local/lib/python3.7/dist-packages (from spacy) (0.9.0)\n",
            "Collecting spacy-legacy<3.1.0,>=3.0.8\n",
            "  Downloading spacy_legacy-3.0.9-py2.py3-none-any.whl (20 kB)\n",
            "Collecting thinc<8.1.0,>=8.0.12\n",
            "  Downloading thinc-8.0.15-cp37-cp37m-manylinux_2_17_x86_64.manylinux2014_x86_64.whl (653 kB)\n",
            "\u001b[K     |████████████████████████████████| 653 kB 44.8 MB/s \n",
            "\u001b[?25hRequirement already satisfied: murmurhash<1.1.0,>=0.28.0 in /usr/local/lib/python3.7/dist-packages (from spacy) (1.0.6)\n",
            "Collecting pathy>=0.3.5\n",
            "  Downloading pathy-0.6.1-py3-none-any.whl (42 kB)\n",
            "\u001b[K     |████████████████████████████████| 42 kB 1.7 MB/s \n",
            "\u001b[?25hRequirement already satisfied: tqdm<5.0.0,>=4.38.0 in /usr/local/lib/python3.7/dist-packages (from spacy) (4.63.0)\n",
            "Requirement already satisfied: cymem<2.1.0,>=2.0.2 in /usr/local/lib/python3.7/dist-packages (from spacy) (2.0.6)\n",
            "Requirement already satisfied: typing-extensions<4.0.0.0,>=3.7.4 in /usr/local/lib/python3.7/dist-packages (from spacy) (3.10.0.2)\n",
            "Collecting srsly<3.0.0,>=2.4.1\n",
            "  Downloading srsly-2.4.2-cp37-cp37m-manylinux_2_17_x86_64.manylinux2014_x86_64.whl (451 kB)\n",
            "\u001b[K     |████████████████████████████████| 451 kB 54.1 MB/s \n",
            "\u001b[?25hCollecting typer<0.5.0,>=0.3.0\n",
            "  Downloading typer-0.4.0-py3-none-any.whl (27 kB)\n",
            "Requirement already satisfied: zipp>=0.5 in /usr/local/lib/python3.7/dist-packages (from catalogue<2.1.0,>=2.0.6->spacy) (3.7.0)\n",
            "Requirement already satisfied: pyparsing!=3.0.5,>=2.0.2 in /usr/local/lib/python3.7/dist-packages (from packaging>=20.0->spacy) (3.0.7)\n",
            "Requirement already satisfied: smart-open<6.0.0,>=5.0.0 in /usr/local/lib/python3.7/dist-packages (from pathy>=0.3.5->spacy) (5.2.1)\n",
            "Requirement already satisfied: urllib3!=1.25.0,!=1.25.1,<1.26,>=1.21.1 in /usr/local/lib/python3.7/dist-packages (from requests<3.0.0,>=2.13.0->spacy) (1.24.3)\n",
            "Requirement already satisfied: certifi>=2017.4.17 in /usr/local/lib/python3.7/dist-packages (from requests<3.0.0,>=2.13.0->spacy) (2021.10.8)\n",
            "Requirement already satisfied: idna<3,>=2.5 in /usr/local/lib/python3.7/dist-packages (from requests<3.0.0,>=2.13.0->spacy) (2.10)\n",
            "Requirement already satisfied: chardet<4,>=3.0.2 in /usr/local/lib/python3.7/dist-packages (from requests<3.0.0,>=2.13.0->spacy) (3.0.4)\n",
            "Requirement already satisfied: MarkupSafe>=0.23 in /usr/local/lib/python3.7/dist-packages (from jinja2->spacy) (2.0.1)\n",
            "Installing collected packages: catalogue, typer, srsly, pydantic, thinc, spacy-loggers, spacy-legacy, pathy, langcodes, spacy\n",
            "  Attempting uninstall: catalogue\n",
            "    Found existing installation: catalogue 1.0.0\n",
            "    Uninstalling catalogue-1.0.0:\n",
            "      Successfully uninstalled catalogue-1.0.0\n",
            "  Attempting uninstall: srsly\n",
            "    Found existing installation: srsly 1.0.5\n",
            "    Uninstalling srsly-1.0.5:\n",
            "      Successfully uninstalled srsly-1.0.5\n",
            "  Attempting uninstall: thinc\n",
            "    Found existing installation: thinc 7.4.0\n",
            "    Uninstalling thinc-7.4.0:\n",
            "      Successfully uninstalled thinc-7.4.0\n",
            "  Attempting uninstall: spacy\n",
            "    Found existing installation: spacy 2.2.4\n",
            "    Uninstalling spacy-2.2.4:\n",
            "      Successfully uninstalled spacy-2.2.4\n",
            "Successfully installed catalogue-2.0.7 langcodes-3.3.0 pathy-0.6.1 pydantic-1.8.2 spacy-3.2.4 spacy-legacy-3.0.9 spacy-loggers-1.0.1 srsly-2.4.2 thinc-8.0.15 typer-0.4.0\n",
            "Collecting en-core-web-sm==3.2.0\n",
            "  Downloading https://github.com/explosion/spacy-models/releases/download/en_core_web_sm-3.2.0/en_core_web_sm-3.2.0-py3-none-any.whl (13.9 MB)\n",
            "\u001b[K     |████████████████████████████████| 13.9 MB 3.6 MB/s \n",
            "\u001b[?25hRequirement already satisfied: spacy<3.3.0,>=3.2.0 in /usr/local/lib/python3.7/dist-packages (from en-core-web-sm==3.2.0) (3.2.4)\n",
            "Requirement already satisfied: thinc<8.1.0,>=8.0.12 in /usr/local/lib/python3.7/dist-packages (from spacy<3.3.0,>=3.2.0->en-core-web-sm==3.2.0) (8.0.15)\n",
            "Requirement already satisfied: packaging>=20.0 in /usr/local/lib/python3.7/dist-packages (from spacy<3.3.0,>=3.2.0->en-core-web-sm==3.2.0) (21.3)\n",
            "Requirement already satisfied: pydantic!=1.8,!=1.8.1,<1.9.0,>=1.7.4 in /usr/local/lib/python3.7/dist-packages (from spacy<3.3.0,>=3.2.0->en-core-web-sm==3.2.0) (1.8.2)\n",
            "Requirement already satisfied: typing-extensions<4.0.0.0,>=3.7.4 in /usr/local/lib/python3.7/dist-packages (from spacy<3.3.0,>=3.2.0->en-core-web-sm==3.2.0) (3.10.0.2)\n",
            "Requirement already satisfied: wasabi<1.1.0,>=0.8.1 in /usr/local/lib/python3.7/dist-packages (from spacy<3.3.0,>=3.2.0->en-core-web-sm==3.2.0) (0.9.0)\n",
            "Requirement already satisfied: jinja2 in /usr/local/lib/python3.7/dist-packages (from spacy<3.3.0,>=3.2.0->en-core-web-sm==3.2.0) (2.11.3)\n",
            "Requirement already satisfied: murmurhash<1.1.0,>=0.28.0 in /usr/local/lib/python3.7/dist-packages (from spacy<3.3.0,>=3.2.0->en-core-web-sm==3.2.0) (1.0.6)\n",
            "Requirement already satisfied: srsly<3.0.0,>=2.4.1 in /usr/local/lib/python3.7/dist-packages (from spacy<3.3.0,>=3.2.0->en-core-web-sm==3.2.0) (2.4.2)\n",
            "Requirement already satisfied: setuptools in /usr/local/lib/python3.7/dist-packages (from spacy<3.3.0,>=3.2.0->en-core-web-sm==3.2.0) (57.4.0)\n",
            "Requirement already satisfied: cymem<2.1.0,>=2.0.2 in /usr/local/lib/python3.7/dist-packages (from spacy<3.3.0,>=3.2.0->en-core-web-sm==3.2.0) (2.0.6)\n",
            "Requirement already satisfied: preshed<3.1.0,>=3.0.2 in /usr/local/lib/python3.7/dist-packages (from spacy<3.3.0,>=3.2.0->en-core-web-sm==3.2.0) (3.0.6)\n",
            "Requirement already satisfied: numpy>=1.15.0 in /usr/local/lib/python3.7/dist-packages (from spacy<3.3.0,>=3.2.0->en-core-web-sm==3.2.0) (1.21.5)\n",
            "Requirement already satisfied: langcodes<4.0.0,>=3.2.0 in /usr/local/lib/python3.7/dist-packages (from spacy<3.3.0,>=3.2.0->en-core-web-sm==3.2.0) (3.3.0)\n",
            "Requirement already satisfied: blis<0.8.0,>=0.4.0 in /usr/local/lib/python3.7/dist-packages (from spacy<3.3.0,>=3.2.0->en-core-web-sm==3.2.0) (0.4.1)\n",
            "Requirement already satisfied: requests<3.0.0,>=2.13.0 in /usr/local/lib/python3.7/dist-packages (from spacy<3.3.0,>=3.2.0->en-core-web-sm==3.2.0) (2.23.0)\n",
            "Requirement already satisfied: pathy>=0.3.5 in /usr/local/lib/python3.7/dist-packages (from spacy<3.3.0,>=3.2.0->en-core-web-sm==3.2.0) (0.6.1)\n",
            "Requirement already satisfied: spacy-legacy<3.1.0,>=3.0.8 in /usr/local/lib/python3.7/dist-packages (from spacy<3.3.0,>=3.2.0->en-core-web-sm==3.2.0) (3.0.9)\n",
            "Requirement already satisfied: typer<0.5.0,>=0.3.0 in /usr/local/lib/python3.7/dist-packages (from spacy<3.3.0,>=3.2.0->en-core-web-sm==3.2.0) (0.4.0)\n",
            "Requirement already satisfied: catalogue<2.1.0,>=2.0.6 in /usr/local/lib/python3.7/dist-packages (from spacy<3.3.0,>=3.2.0->en-core-web-sm==3.2.0) (2.0.7)\n",
            "Requirement already satisfied: spacy-loggers<2.0.0,>=1.0.0 in /usr/local/lib/python3.7/dist-packages (from spacy<3.3.0,>=3.2.0->en-core-web-sm==3.2.0) (1.0.1)\n",
            "Requirement already satisfied: click<8.1.0 in /usr/local/lib/python3.7/dist-packages (from spacy<3.3.0,>=3.2.0->en-core-web-sm==3.2.0) (7.1.2)\n",
            "Requirement already satisfied: tqdm<5.0.0,>=4.38.0 in /usr/local/lib/python3.7/dist-packages (from spacy<3.3.0,>=3.2.0->en-core-web-sm==3.2.0) (4.63.0)\n",
            "Requirement already satisfied: zipp>=0.5 in /usr/local/lib/python3.7/dist-packages (from catalogue<2.1.0,>=2.0.6->spacy<3.3.0,>=3.2.0->en-core-web-sm==3.2.0) (3.7.0)\n",
            "Requirement already satisfied: pyparsing!=3.0.5,>=2.0.2 in /usr/local/lib/python3.7/dist-packages (from packaging>=20.0->spacy<3.3.0,>=3.2.0->en-core-web-sm==3.2.0) (3.0.7)\n",
            "Requirement already satisfied: smart-open<6.0.0,>=5.0.0 in /usr/local/lib/python3.7/dist-packages (from pathy>=0.3.5->spacy<3.3.0,>=3.2.0->en-core-web-sm==3.2.0) (5.2.1)\n",
            "Requirement already satisfied: idna<3,>=2.5 in /usr/local/lib/python3.7/dist-packages (from requests<3.0.0,>=2.13.0->spacy<3.3.0,>=3.2.0->en-core-web-sm==3.2.0) (2.10)\n",
            "Requirement already satisfied: certifi>=2017.4.17 in /usr/local/lib/python3.7/dist-packages (from requests<3.0.0,>=2.13.0->spacy<3.3.0,>=3.2.0->en-core-web-sm==3.2.0) (2021.10.8)\n",
            "Requirement already satisfied: urllib3!=1.25.0,!=1.25.1,<1.26,>=1.21.1 in /usr/local/lib/python3.7/dist-packages (from requests<3.0.0,>=2.13.0->spacy<3.3.0,>=3.2.0->en-core-web-sm==3.2.0) (1.24.3)\n",
            "Requirement already satisfied: chardet<4,>=3.0.2 in /usr/local/lib/python3.7/dist-packages (from requests<3.0.0,>=2.13.0->spacy<3.3.0,>=3.2.0->en-core-web-sm==3.2.0) (3.0.4)\n",
            "Requirement already satisfied: MarkupSafe>=0.23 in /usr/local/lib/python3.7/dist-packages (from jinja2->spacy<3.3.0,>=3.2.0->en-core-web-sm==3.2.0) (2.0.1)\n",
            "Installing collected packages: en-core-web-sm\n",
            "  Attempting uninstall: en-core-web-sm\n",
            "    Found existing installation: en-core-web-sm 2.2.5\n",
            "    Uninstalling en-core-web-sm-2.2.5:\n",
            "      Successfully uninstalled en-core-web-sm-2.2.5\n",
            "Successfully installed en-core-web-sm-3.2.0\n",
            "\u001b[38;5;2m✔ Download and installation successful\u001b[0m\n",
            "You can now load the package via spacy.load('en_core_web_sm')\n",
            "Collecting en-core-web-trf==3.2.0\n",
            "  Downloading https://github.com/explosion/spacy-models/releases/download/en_core_web_trf-3.2.0/en_core_web_trf-3.2.0-py3-none-any.whl (460.2 MB)\n",
            "\u001b[K     |████████████████████████████████| 460.2 MB 34 kB/s \n",
            "\u001b[?25hCollecting spacy-transformers<1.2.0,>=1.1.2\n",
            "  Downloading spacy_transformers-1.1.5-py2.py3-none-any.whl (51 kB)\n",
            "\u001b[K     |████████████████████████████████| 51 kB 178 kB/s \n",
            "\u001b[?25hRequirement already satisfied: spacy<3.3.0,>=3.2.0 in /usr/local/lib/python3.7/dist-packages (from en-core-web-trf==3.2.0) (3.2.4)\n",
            "Requirement already satisfied: langcodes<4.0.0,>=3.2.0 in /usr/local/lib/python3.7/dist-packages (from spacy<3.3.0,>=3.2.0->en-core-web-trf==3.2.0) (3.3.0)\n",
            "Requirement already satisfied: requests<3.0.0,>=2.13.0 in /usr/local/lib/python3.7/dist-packages (from spacy<3.3.0,>=3.2.0->en-core-web-trf==3.2.0) (2.23.0)\n",
            "Requirement already satisfied: murmurhash<1.1.0,>=0.28.0 in /usr/local/lib/python3.7/dist-packages (from spacy<3.3.0,>=3.2.0->en-core-web-trf==3.2.0) (1.0.6)\n",
            "Requirement already satisfied: spacy-legacy<3.1.0,>=3.0.8 in /usr/local/lib/python3.7/dist-packages (from spacy<3.3.0,>=3.2.0->en-core-web-trf==3.2.0) (3.0.9)\n",
            "Requirement already satisfied: srsly<3.0.0,>=2.4.1 in /usr/local/lib/python3.7/dist-packages (from spacy<3.3.0,>=3.2.0->en-core-web-trf==3.2.0) (2.4.2)\n",
            "Requirement already satisfied: typer<0.5.0,>=0.3.0 in /usr/local/lib/python3.7/dist-packages (from spacy<3.3.0,>=3.2.0->en-core-web-trf==3.2.0) (0.4.0)\n",
            "Requirement already satisfied: catalogue<2.1.0,>=2.0.6 in /usr/local/lib/python3.7/dist-packages (from spacy<3.3.0,>=3.2.0->en-core-web-trf==3.2.0) (2.0.7)\n",
            "Requirement already satisfied: typing-extensions<4.0.0.0,>=3.7.4 in /usr/local/lib/python3.7/dist-packages (from spacy<3.3.0,>=3.2.0->en-core-web-trf==3.2.0) (3.10.0.2)\n",
            "Requirement already satisfied: thinc<8.1.0,>=8.0.12 in /usr/local/lib/python3.7/dist-packages (from spacy<3.3.0,>=3.2.0->en-core-web-trf==3.2.0) (8.0.15)\n",
            "Requirement already satisfied: blis<0.8.0,>=0.4.0 in /usr/local/lib/python3.7/dist-packages (from spacy<3.3.0,>=3.2.0->en-core-web-trf==3.2.0) (0.4.1)\n",
            "Requirement already satisfied: tqdm<5.0.0,>=4.38.0 in /usr/local/lib/python3.7/dist-packages (from spacy<3.3.0,>=3.2.0->en-core-web-trf==3.2.0) (4.63.0)\n",
            "Requirement already satisfied: wasabi<1.1.0,>=0.8.1 in /usr/local/lib/python3.7/dist-packages (from spacy<3.3.0,>=3.2.0->en-core-web-trf==3.2.0) (0.9.0)\n",
            "Requirement already satisfied: click<8.1.0 in /usr/local/lib/python3.7/dist-packages (from spacy<3.3.0,>=3.2.0->en-core-web-trf==3.2.0) (7.1.2)\n",
            "Requirement already satisfied: spacy-loggers<2.0.0,>=1.0.0 in /usr/local/lib/python3.7/dist-packages (from spacy<3.3.0,>=3.2.0->en-core-web-trf==3.2.0) (1.0.1)\n",
            "Requirement already satisfied: pydantic!=1.8,!=1.8.1,<1.9.0,>=1.7.4 in /usr/local/lib/python3.7/dist-packages (from spacy<3.3.0,>=3.2.0->en-core-web-trf==3.2.0) (1.8.2)\n",
            "Requirement already satisfied: numpy>=1.15.0 in /usr/local/lib/python3.7/dist-packages (from spacy<3.3.0,>=3.2.0->en-core-web-trf==3.2.0) (1.21.5)\n",
            "Requirement already satisfied: preshed<3.1.0,>=3.0.2 in /usr/local/lib/python3.7/dist-packages (from spacy<3.3.0,>=3.2.0->en-core-web-trf==3.2.0) (3.0.6)\n",
            "Requirement already satisfied: setuptools in /usr/local/lib/python3.7/dist-packages (from spacy<3.3.0,>=3.2.0->en-core-web-trf==3.2.0) (57.4.0)\n",
            "Requirement already satisfied: jinja2 in /usr/local/lib/python3.7/dist-packages (from spacy<3.3.0,>=3.2.0->en-core-web-trf==3.2.0) (2.11.3)\n",
            "Requirement already satisfied: cymem<2.1.0,>=2.0.2 in /usr/local/lib/python3.7/dist-packages (from spacy<3.3.0,>=3.2.0->en-core-web-trf==3.2.0) (2.0.6)\n",
            "Requirement already satisfied: pathy>=0.3.5 in /usr/local/lib/python3.7/dist-packages (from spacy<3.3.0,>=3.2.0->en-core-web-trf==3.2.0) (0.6.1)\n",
            "Requirement already satisfied: packaging>=20.0 in /usr/local/lib/python3.7/dist-packages (from spacy<3.3.0,>=3.2.0->en-core-web-trf==3.2.0) (21.3)\n",
            "Requirement already satisfied: zipp>=0.5 in /usr/local/lib/python3.7/dist-packages (from catalogue<2.1.0,>=2.0.6->spacy<3.3.0,>=3.2.0->en-core-web-trf==3.2.0) (3.7.0)\n",
            "Requirement already satisfied: pyparsing!=3.0.5,>=2.0.2 in /usr/local/lib/python3.7/dist-packages (from packaging>=20.0->spacy<3.3.0,>=3.2.0->en-core-web-trf==3.2.0) (3.0.7)\n",
            "Requirement already satisfied: smart-open<6.0.0,>=5.0.0 in /usr/local/lib/python3.7/dist-packages (from pathy>=0.3.5->spacy<3.3.0,>=3.2.0->en-core-web-trf==3.2.0) (5.2.1)\n",
            "Requirement already satisfied: idna<3,>=2.5 in /usr/local/lib/python3.7/dist-packages (from requests<3.0.0,>=2.13.0->spacy<3.3.0,>=3.2.0->en-core-web-trf==3.2.0) (2.10)\n",
            "Requirement already satisfied: chardet<4,>=3.0.2 in /usr/local/lib/python3.7/dist-packages (from requests<3.0.0,>=2.13.0->spacy<3.3.0,>=3.2.0->en-core-web-trf==3.2.0) (3.0.4)\n",
            "Requirement already satisfied: certifi>=2017.4.17 in /usr/local/lib/python3.7/dist-packages (from requests<3.0.0,>=2.13.0->spacy<3.3.0,>=3.2.0->en-core-web-trf==3.2.0) (2021.10.8)\n",
            "Requirement already satisfied: urllib3!=1.25.0,!=1.25.1,<1.26,>=1.21.1 in /usr/local/lib/python3.7/dist-packages (from requests<3.0.0,>=2.13.0->spacy<3.3.0,>=3.2.0->en-core-web-trf==3.2.0) (1.24.3)\n",
            "Collecting spacy-alignments<1.0.0,>=0.7.2\n",
            "  Downloading spacy_alignments-0.8.4-cp37-cp37m-manylinux_2_17_x86_64.manylinux2014_x86_64.whl (1.1 MB)\n",
            "\u001b[K     |████████████████████████████████| 1.1 MB 18.9 MB/s \n",
            "\u001b[?25hCollecting transformers<4.18.0,>=3.4.0\n",
            "  Downloading transformers-4.17.0-py3-none-any.whl (3.8 MB)\n",
            "\u001b[K     |████████████████████████████████| 3.8 MB 53.1 MB/s \n",
            "\u001b[?25hRequirement already satisfied: torch>=1.6.0 in /usr/local/lib/python3.7/dist-packages (from spacy-transformers<1.2.0,>=1.1.2->en-core-web-trf==3.2.0) (1.10.0+cu111)\n",
            "Collecting pyyaml>=5.1\n",
            "  Downloading PyYAML-6.0-cp37-cp37m-manylinux_2_5_x86_64.manylinux1_x86_64.manylinux_2_12_x86_64.manylinux2010_x86_64.whl (596 kB)\n",
            "\u001b[K     |████████████████████████████████| 596 kB 75.7 MB/s \n",
            "\u001b[?25hRequirement already satisfied: filelock in /usr/local/lib/python3.7/dist-packages (from transformers<4.18.0,>=3.4.0->spacy-transformers<1.2.0,>=1.1.2->en-core-web-trf==3.2.0) (3.6.0)\n",
            "Collecting huggingface-hub<1.0,>=0.1.0\n",
            "  Downloading huggingface_hub-0.4.0-py3-none-any.whl (67 kB)\n",
            "\u001b[K     |████████████████████████████████| 67 kB 7.6 MB/s \n",
            "\u001b[?25hCollecting sacremoses\n",
            "  Downloading sacremoses-0.0.49-py3-none-any.whl (895 kB)\n",
            "\u001b[K     |████████████████████████████████| 895 kB 64.3 MB/s \n",
            "\u001b[?25hRequirement already satisfied: importlib-metadata in /usr/local/lib/python3.7/dist-packages (from transformers<4.18.0,>=3.4.0->spacy-transformers<1.2.0,>=1.1.2->en-core-web-trf==3.2.0) (4.11.3)\n",
            "Collecting tokenizers!=0.11.3,>=0.11.1\n",
            "  Downloading tokenizers-0.11.6-cp37-cp37m-manylinux_2_12_x86_64.manylinux2010_x86_64.whl (6.5 MB)\n",
            "\u001b[K     |████████████████████████████████| 6.5 MB 50.1 MB/s \n",
            "\u001b[?25hRequirement already satisfied: regex!=2019.12.17 in /usr/local/lib/python3.7/dist-packages (from transformers<4.18.0,>=3.4.0->spacy-transformers<1.2.0,>=1.1.2->en-core-web-trf==3.2.0) (2019.12.20)\n",
            "Requirement already satisfied: MarkupSafe>=0.23 in /usr/local/lib/python3.7/dist-packages (from jinja2->spacy<3.3.0,>=3.2.0->en-core-web-trf==3.2.0) (2.0.1)\n",
            "Requirement already satisfied: six in /usr/local/lib/python3.7/dist-packages (from sacremoses->transformers<4.18.0,>=3.4.0->spacy-transformers<1.2.0,>=1.1.2->en-core-web-trf==3.2.0) (1.15.0)\n",
            "Requirement already satisfied: joblib in /usr/local/lib/python3.7/dist-packages (from sacremoses->transformers<4.18.0,>=3.4.0->spacy-transformers<1.2.0,>=1.1.2->en-core-web-trf==3.2.0) (1.1.0)\n",
            "Installing collected packages: pyyaml, tokenizers, sacremoses, huggingface-hub, transformers, spacy-alignments, spacy-transformers, en-core-web-trf\n",
            "  Attempting uninstall: pyyaml\n",
            "    Found existing installation: PyYAML 3.13\n",
            "    Uninstalling PyYAML-3.13:\n",
            "      Successfully uninstalled PyYAML-3.13\n",
            "Successfully installed en-core-web-trf-3.2.0 huggingface-hub-0.4.0 pyyaml-6.0 sacremoses-0.0.49 spacy-alignments-0.8.4 spacy-transformers-1.1.5 tokenizers-0.11.6 transformers-4.17.0\n",
            "\u001b[38;5;2m✔ Download and installation successful\u001b[0m\n",
            "You can now load the package via spacy.load('en_core_web_trf')\n"
          ]
        }
      ]
    },
    {
      "cell_type": "code",
      "metadata": {
        "tags": [],
        "deepnote_to_be_reexecuted": false,
        "source_hash": "18170c59",
        "execution_start": 1633731173757,
        "execution_millis": 5814,
        "cell_id": "00003-bf21e5d6-5a52-4a37-819f-18cab60d765c",
        "deepnote_cell_type": "code",
        "id": "wbiHKEYQxAIp"
      },
      "source": [
        "# импортируем библиотеки\n",
        "import pandas as pd\n",
        "import numpy as np\n",
        "import spacy\n",
        "import matplotlib.pyplot as plt\n",
        "import re\n",
        "from spacy.tokens import DocBin\n",
        "from tqdm.notebook import tqdm\n",
        "\n",
        "from sklearn.metrics import classification_report\n",
        "from sklearn.preprocessing import LabelEncoder\n",
        "from sklearn.model_selection import train_test_split"
      ],
      "execution_count": 2,
      "outputs": []
    },
    {
      "cell_type": "code",
      "source": [
        "from google.colab import drive\n",
        "drive.mount('/content/drive')"
      ],
      "metadata": {
        "colab": {
          "base_uri": "https://localhost:8080/"
        },
        "id": "OkFF479n0D47",
        "outputId": "a4f496c7-6189-4ef2-97af-1a1693b07432"
      },
      "execution_count": 3,
      "outputs": [
        {
          "output_type": "stream",
          "name": "stdout",
          "text": [
            "Mounted at /content/drive\n"
          ]
        }
      ]
    },
    {
      "cell_type": "code",
      "metadata": {
        "tags": [],
        "deepnote_to_be_reexecuted": false,
        "source_hash": "162d9b1c",
        "execution_start": 1633731179600,
        "execution_millis": 444,
        "cell_id": "00005-3d2d5bae-3159-4fcc-8a0c-5af699d10fea",
        "deepnote_cell_type": "code",
        "colab": {
          "base_uri": "https://localhost:8080/",
          "height": 337
        },
        "id": "3rhrSekLxAIq",
        "outputId": "7e25ec52-9b26-45fc-8f01-df70423d67a6"
      },
      "source": [
        "# импортируем датасет\n",
        "raw_df = pd.read_csv(\"/content/drive/MyDrive/recipes/recipes_82k.csv\")\n",
        "raw_df.head()"
      ],
      "execution_count": 4,
      "outputs": [
        {
          "output_type": "execute_result",
          "data": {
            "text/plain": [
              "  category                                     cooking_method       cuisine  \\\n",
              "0      NaN  ['Set the racks in the middle and upper thirds...  ['American']   \n",
              "1      NaN  ['Place the eggs in the air fryer basket and c...  ['American']   \n",
              "2      NaN  ['Air Fryer directions:', 'Preheat air fryer t...  ['American']   \n",
              "3      NaN  ['Preheat the oven to 400F.', 'Pour 2 tablespo...  ['American']   \n",
              "4      NaN  ['Cook potatoes in a large pot of salted water...  ['American']   \n",
              "\n",
              "                                               image  \\\n",
              "0  https://www.skinnytaste.com/wp-content/uploads...   \n",
              "1  https://www.skinnytaste.com/wp-content/uploads...   \n",
              "2  https://www.skinnytaste.com/wp-content/uploads...   \n",
              "3  https://www.skinnytaste.com/wp-content/uploads...   \n",
              "4  https://www.skinnytaste.com/wp-content/uploads...   \n",
              "\n",
              "                                         ingredients   prep_time  \\\n",
              "0  ['1 tablespoons extra virgin olive oil', '1 cu...  20 minutes   \n",
              "1  ['4 large eggs', 'Salt (black pepper, everythi...  15 minutes   \n",
              "2  ['olive oil spray', '4 about 5 ounce each salm...   5 minutes   \n",
              "3  ['1/2 cup freshly grated Parmesan (not pre-gra...  15 minutes   \n",
              "4  ['3 1/2 pounds new potatoes (about 10 peeled a...  10 minutes   \n",
              "\n",
              "                       recipe_name       serves  \\\n",
              "0           Mediterranean Sea Bass   4 servings   \n",
              "1       Air Fryer Hard Boiled Eggs       4 eggs   \n",
              "2  Air Fryer Basil-Parmesan Salmon   4 servings   \n",
              "3       Everything Parmesan Crisps   4 servings   \n",
              "4      Potato and Green Bean Salad  12 servings   \n",
              "\n",
              "                                                tags  \n",
              "0  Dairy Free, Gluten Free, Keto Recipes, Kid Fri...  \n",
              "1  Air Fryer Recipes, Dairy Free, Gluten Free, Ke...  \n",
              "2  Air Fryer Recipes, Gluten Free, Keto Recipes, ...  \n",
              "3  Gluten Free, Keto Recipes, Kid Friendly, Low C...  \n",
              "4  Dairy Free, Gluten Free, Kid Friendly, Vegetar...  "
            ],
            "text/html": [
              "\n",
              "  <div id=\"df-2e2f6dde-db62-4732-9990-70099cc5d5eb\">\n",
              "    <div class=\"colab-df-container\">\n",
              "      <div>\n",
              "<style scoped>\n",
              "    .dataframe tbody tr th:only-of-type {\n",
              "        vertical-align: middle;\n",
              "    }\n",
              "\n",
              "    .dataframe tbody tr th {\n",
              "        vertical-align: top;\n",
              "    }\n",
              "\n",
              "    .dataframe thead th {\n",
              "        text-align: right;\n",
              "    }\n",
              "</style>\n",
              "<table border=\"1\" class=\"dataframe\">\n",
              "  <thead>\n",
              "    <tr style=\"text-align: right;\">\n",
              "      <th></th>\n",
              "      <th>category</th>\n",
              "      <th>cooking_method</th>\n",
              "      <th>cuisine</th>\n",
              "      <th>image</th>\n",
              "      <th>ingredients</th>\n",
              "      <th>prep_time</th>\n",
              "      <th>recipe_name</th>\n",
              "      <th>serves</th>\n",
              "      <th>tags</th>\n",
              "    </tr>\n",
              "  </thead>\n",
              "  <tbody>\n",
              "    <tr>\n",
              "      <th>0</th>\n",
              "      <td>NaN</td>\n",
              "      <td>['Set the racks in the middle and upper thirds...</td>\n",
              "      <td>['American']</td>\n",
              "      <td>https://www.skinnytaste.com/wp-content/uploads...</td>\n",
              "      <td>['1 tablespoons extra virgin olive oil', '1 cu...</td>\n",
              "      <td>20 minutes</td>\n",
              "      <td>Mediterranean Sea Bass</td>\n",
              "      <td>4 servings</td>\n",
              "      <td>Dairy Free, Gluten Free, Keto Recipes, Kid Fri...</td>\n",
              "    </tr>\n",
              "    <tr>\n",
              "      <th>1</th>\n",
              "      <td>NaN</td>\n",
              "      <td>['Place the eggs in the air fryer basket and c...</td>\n",
              "      <td>['American']</td>\n",
              "      <td>https://www.skinnytaste.com/wp-content/uploads...</td>\n",
              "      <td>['4 large eggs', 'Salt (black pepper, everythi...</td>\n",
              "      <td>15 minutes</td>\n",
              "      <td>Air Fryer Hard Boiled Eggs</td>\n",
              "      <td>4 eggs</td>\n",
              "      <td>Air Fryer Recipes, Dairy Free, Gluten Free, Ke...</td>\n",
              "    </tr>\n",
              "    <tr>\n",
              "      <th>2</th>\n",
              "      <td>NaN</td>\n",
              "      <td>['Air Fryer directions:', 'Preheat air fryer t...</td>\n",
              "      <td>['American']</td>\n",
              "      <td>https://www.skinnytaste.com/wp-content/uploads...</td>\n",
              "      <td>['olive oil spray', '4 about 5 ounce each salm...</td>\n",
              "      <td>5 minutes</td>\n",
              "      <td>Air Fryer Basil-Parmesan Salmon</td>\n",
              "      <td>4 servings</td>\n",
              "      <td>Air Fryer Recipes, Gluten Free, Keto Recipes, ...</td>\n",
              "    </tr>\n",
              "    <tr>\n",
              "      <th>3</th>\n",
              "      <td>NaN</td>\n",
              "      <td>['Preheat the oven to 400F.', 'Pour 2 tablespo...</td>\n",
              "      <td>['American']</td>\n",
              "      <td>https://www.skinnytaste.com/wp-content/uploads...</td>\n",
              "      <td>['1/2 cup freshly grated Parmesan (not pre-gra...</td>\n",
              "      <td>15 minutes</td>\n",
              "      <td>Everything Parmesan Crisps</td>\n",
              "      <td>4 servings</td>\n",
              "      <td>Gluten Free, Keto Recipes, Kid Friendly, Low C...</td>\n",
              "    </tr>\n",
              "    <tr>\n",
              "      <th>4</th>\n",
              "      <td>NaN</td>\n",
              "      <td>['Cook potatoes in a large pot of salted water...</td>\n",
              "      <td>['American']</td>\n",
              "      <td>https://www.skinnytaste.com/wp-content/uploads...</td>\n",
              "      <td>['3 1/2 pounds new potatoes (about 10 peeled a...</td>\n",
              "      <td>10 minutes</td>\n",
              "      <td>Potato and Green Bean Salad</td>\n",
              "      <td>12 servings</td>\n",
              "      <td>Dairy Free, Gluten Free, Kid Friendly, Vegetar...</td>\n",
              "    </tr>\n",
              "  </tbody>\n",
              "</table>\n",
              "</div>\n",
              "      <button class=\"colab-df-convert\" onclick=\"convertToInteractive('df-2e2f6dde-db62-4732-9990-70099cc5d5eb')\"\n",
              "              title=\"Convert this dataframe to an interactive table.\"\n",
              "              style=\"display:none;\">\n",
              "        \n",
              "  <svg xmlns=\"http://www.w3.org/2000/svg\" height=\"24px\"viewBox=\"0 0 24 24\"\n",
              "       width=\"24px\">\n",
              "    <path d=\"M0 0h24v24H0V0z\" fill=\"none\"/>\n",
              "    <path d=\"M18.56 5.44l.94 2.06.94-2.06 2.06-.94-2.06-.94-.94-2.06-.94 2.06-2.06.94zm-11 1L8.5 8.5l.94-2.06 2.06-.94-2.06-.94L8.5 2.5l-.94 2.06-2.06.94zm10 10l.94 2.06.94-2.06 2.06-.94-2.06-.94-.94-2.06-.94 2.06-2.06.94z\"/><path d=\"M17.41 7.96l-1.37-1.37c-.4-.4-.92-.59-1.43-.59-.52 0-1.04.2-1.43.59L10.3 9.45l-7.72 7.72c-.78.78-.78 2.05 0 2.83L4 21.41c.39.39.9.59 1.41.59.51 0 1.02-.2 1.41-.59l7.78-7.78 2.81-2.81c.8-.78.8-2.07 0-2.86zM5.41 20L4 18.59l7.72-7.72 1.47 1.35L5.41 20z\"/>\n",
              "  </svg>\n",
              "      </button>\n",
              "      \n",
              "  <style>\n",
              "    .colab-df-container {\n",
              "      display:flex;\n",
              "      flex-wrap:wrap;\n",
              "      gap: 12px;\n",
              "    }\n",
              "\n",
              "    .colab-df-convert {\n",
              "      background-color: #E8F0FE;\n",
              "      border: none;\n",
              "      border-radius: 50%;\n",
              "      cursor: pointer;\n",
              "      display: none;\n",
              "      fill: #1967D2;\n",
              "      height: 32px;\n",
              "      padding: 0 0 0 0;\n",
              "      width: 32px;\n",
              "    }\n",
              "\n",
              "    .colab-df-convert:hover {\n",
              "      background-color: #E2EBFA;\n",
              "      box-shadow: 0px 1px 2px rgba(60, 64, 67, 0.3), 0px 1px 3px 1px rgba(60, 64, 67, 0.15);\n",
              "      fill: #174EA6;\n",
              "    }\n",
              "\n",
              "    [theme=dark] .colab-df-convert {\n",
              "      background-color: #3B4455;\n",
              "      fill: #D2E3FC;\n",
              "    }\n",
              "\n",
              "    [theme=dark] .colab-df-convert:hover {\n",
              "      background-color: #434B5C;\n",
              "      box-shadow: 0px 1px 3px 1px rgba(0, 0, 0, 0.15);\n",
              "      filter: drop-shadow(0px 1px 2px rgba(0, 0, 0, 0.3));\n",
              "      fill: #FFFFFF;\n",
              "    }\n",
              "  </style>\n",
              "\n",
              "      <script>\n",
              "        const buttonEl =\n",
              "          document.querySelector('#df-2e2f6dde-db62-4732-9990-70099cc5d5eb button.colab-df-convert');\n",
              "        buttonEl.style.display =\n",
              "          google.colab.kernel.accessAllowed ? 'block' : 'none';\n",
              "\n",
              "        async function convertToInteractive(key) {\n",
              "          const element = document.querySelector('#df-2e2f6dde-db62-4732-9990-70099cc5d5eb');\n",
              "          const dataTable =\n",
              "            await google.colab.kernel.invokeFunction('convertToInteractive',\n",
              "                                                     [key], {});\n",
              "          if (!dataTable) return;\n",
              "\n",
              "          const docLinkHtml = 'Like what you see? Visit the ' +\n",
              "            '<a target=\"_blank\" href=https://colab.research.google.com/notebooks/data_table.ipynb>data table notebook</a>'\n",
              "            + ' to learn more about interactive tables.';\n",
              "          element.innerHTML = '';\n",
              "          dataTable['output_type'] = 'display_data';\n",
              "          await google.colab.output.renderOutput(dataTable, element);\n",
              "          const docLink = document.createElement('div');\n",
              "          docLink.innerHTML = docLinkHtml;\n",
              "          element.appendChild(docLink);\n",
              "        }\n",
              "      </script>\n",
              "    </div>\n",
              "  </div>\n",
              "  "
            ]
          },
          "metadata": {},
          "execution_count": 4
        }
      ]
    },
    {
      "cell_type": "markdown",
      "source": [
        "# Препроцессинг данных"
      ],
      "metadata": {
        "id": "bockziaYD0zO"
      }
    },
    {
      "cell_type": "code",
      "source": [
        "df = raw_df.copy()\n",
        "# оставляем только колонки с названием кухни и описанием рецепта\n",
        "df.drop(columns = ['category', 'image', 'ingredients',\n",
        "                   'prep_time',\t'recipe_name',\t'serves',\t'tags'], inplace = True)\n",
        "\n",
        "# удаляем пустые значения\n",
        "df = df[df.cuisine != f'['']']\n",
        "df = df[df.cooking_method != f'['']']\n",
        "\n",
        "# делаем из строчек рецепта цельный текст-описание\n",
        "df.cuisine = df.cuisine.apply(lambda x: x[2:str(x).find(',')-1])\n",
        "df.cooking_method = df.cooking_method.apply(lambda x: x[2:-2].split('\\', \\''))\n",
        "df.cooking_method = df.cooking_method.apply(lambda x:\" \".join(x))\n",
        "\n",
        "df.reset_index(drop=True, inplace = True)\n",
        "df.cuisine.unique()"
      ],
      "metadata": {
        "colab": {
          "base_uri": "https://localhost:8080/"
        },
        "id": "lNWhPzuu0eiG",
        "outputId": "b924c5df-7465-4838-b0f4-97af6ccbd206"
      },
      "execution_count": 5,
      "outputs": [
        {
          "output_type": "execute_result",
          "data": {
            "text/plain": [
              "array(['American', 'Italian', 'Mexican', 'Chinese', 'Indian', 'Asian',\n",
              "       'Mediterranean', 'Latin', 'Tex Mex', 'Cuban', 'Brazilian'],\n",
              "      dtype=object)"
            ]
          },
          "metadata": {},
          "execution_count": 5
        }
      ]
    },
    {
      "cell_type": "markdown",
      "source": [
        "Разметка данных оказалось несбалансированной, так что было решено определять не точное название кухни мира для каждого рецепта, а то, из какой части света оно пришло."
      ],
      "metadata": {
        "id": "ULi-GpfhEaF9"
      }
    },
    {
      "cell_type": "code",
      "source": [
        "north_america = ['American']\n",
        "south_america = ['Cuban', 'Brazilian', 'Mexican', 'Tex Mex']\n",
        "europe = ['Latin','Italian', 'Mediterranean']\n",
        "asia = ['Chinese', 'Indian', 'Asian']\n",
        "for item in range(len(df)):\n",
        "  if df.cuisine[item] in north_america:\n",
        "    df.cuisine[item] = 'North America'\n",
        "  if df.cuisine[item] in south_america:\n",
        "    df.cuisine[item] = 'South/Middle America'\n",
        "  if df.cuisine[item] in europe:\n",
        "    df.cuisine[item] = 'Europe'\n",
        "  if df.cuisine[item] in asia:\n",
        "    df.cuisine[item] = 'Asia'\n",
        "    \n",
        "df.cuisine.unique()\n",
        "classes, count = np.unique(df.cuisine, return_counts= True)"
      ],
      "metadata": {
        "id": "a5Q1UfJ0JpAM"
      },
      "execution_count": 6,
      "outputs": []
    },
    {
      "cell_type": "code",
      "source": [
        "# разбиваем на обучающую и тестовую выборки\n",
        "X_train, X_test, y_train, y_test = train_test_split(df.cooking_method, df.cuisine, test_size=0.1, random_state=42)"
      ],
      "metadata": {
        "deepnote_to_be_reexecuted": false,
        "source_hash": "b623e53d",
        "execution_start": 1633731179906,
        "execution_millis": 9901084,
        "cell_id": "00007-72105752-52d0-4178-b672-bdcff435be09",
        "deepnote_cell_type": "visualization",
        "id": "1yyWgCrVxAIq"
      },
      "execution_count": 7,
      "outputs": []
    },
    {
      "cell_type": "code",
      "metadata": {
        "tags": [],
        "deepnote_to_be_reexecuted": false,
        "source_hash": "e1346d87",
        "execution_start": 1633731292400,
        "execution_millis": 135,
        "cell_id": "00025-abd9230c-353b-46b2-9359-e5a9cc2a79bc",
        "deepnote_cell_type": "code",
        "id": "Ttc-qmDXxAIv"
      },
      "source": [
        "# закодируем метки от 1 до 4\n",
        "\n",
        "encoder = LabelEncoder()\n",
        "y_train = encoder.fit_transform(y_train)\n",
        "\n",
        "encoder = LabelEncoder()\n",
        "y_test = encoder.fit_transform(y_test)"
      ],
      "execution_count": 8,
      "outputs": []
    },
    {
      "cell_type": "markdown",
      "source": [
        "# Токенизация данных\n",
        "Токенизируем тексты, убираем пунктуацию и добавляем лемматизацию."
      ],
      "metadata": {
        "tags": [],
        "cell_id": "00028-967a9f56-744b-4a58-b3c1-b778547a01f9",
        "deepnote_cell_type": "markdown",
        "id": "x6RvT6a-xAIw"
      }
    },
    {
      "cell_type": "code",
      "metadata": {
        "tags": [],
        "deepnote_to_be_reexecuted": false,
        "source_hash": "2005a89e",
        "execution_start": 1633731308503,
        "execution_millis": 3520,
        "allow_embed": "code_output",
        "cell_id": "00029-0ba96a50-eba0-4b78-ab11-aadf5b08cad1",
        "deepnote_cell_type": "code",
        "id": "Egfll8mQxAIw",
        "colab": {
          "base_uri": "https://localhost:8080/"
        },
        "outputId": "e14a3222-3dab-4328-83e3-cf79b726dae6"
      },
      "source": [
        "import string\n",
        "import re\n",
        "\n",
        "# загружаем английскую библиотеку из SpaCy\n",
        "nlp = spacy.load(\"en_core_web_sm\")\n",
        "\n",
        "# лист со знаками пунктуации и лист слов-исключений из spaCy\n",
        "punctuations = string.punctuation\n",
        "stopwords = spacy.lang.en.stop_words.STOP_WORDS\n",
        "print(stopwords)\n",
        "\n",
        "def spacy_tokenizer(sentence):\n",
        "    tokens = nlp(sentence)\n",
        "\n",
        "    # лемматизируем и убираем слова-исключения\n",
        "    tokens = [word.lemma_.lower().strip() if word.lemma_ != \"PROPN\" else word.lower_ for word in tokens]\n",
        "    tokens = [word for word in tokens if word not in stopwords and word not in punctuations]\n",
        "\n",
        "    return tokens"
      ],
      "execution_count": 9,
      "outputs": [
        {
          "output_type": "stream",
          "name": "stdout",
          "text": [
            "{'into', 'least', 'whenever', 'mostly', 'against', 'side', 'nine', 'anyway', 'her', 'that', '’re', 'elsewhere', 'perhaps', 'unless', 'next', 'two', 'you', 'alone', 'its', '‘re', 'whereas', 'has', 'would', 'otherwise', 'beyond', 'for', \"'re\", 'he', 'so', 'will', 'hereafter', 'whereby', 'really', 'were', '’m', 'thereupon', 'become', 'all', 'thus', 'between', 'must', 'thereby', 'than', 'hence', 'what', 'an', 'fifty', 'everything', 'when', 'among', 'i', 'was', '‘m', 'latterly', 'formerly', 'herein', 'does', 'whether', 'bottom', 'sixty', 'through', 'here', 'more', 'seeming', 'should', 'first', 'my', \"'d\", 'ours', 'afterwards', 'whereupon', 'part', 'twelve', 'give', 'throughout', 'had', 'some', 'while', 'itself', 'hereby', 're', 'themselves', 'at', 'various', 'enough', 'well', '’ve', 'serious', 'then', 'top', 'someone', 'your', 'whoever', 'above', 'them', 'are', 'where', 'hundred', 'onto', 'cannot', 'did', 'below', 'get', 'becoming', 'every', 'make', 'made', 'us', 'move', 'n‘t', \"'m\", 'up', 'since', 'hers', \"'ll\", 'out', 'became', 'himself', 'three', '‘ve', '’ll', 'she', 'nothing', 'n’t', 'also', 'back', 'one', 'ever', 'used', 'seem', 'be', 'ca', 'doing', '‘ll', 'name', 'no', 'very', 'within', 'even', 'or', 'this', 'front', 'anyhow', 'just', 'on', 'see', 'anything', 'somehow', 'show', '’d', 'ourselves', 'in', 'other', 'to', 'seems', 'whereafter', 'too', 'less', 'about', 'done', 'down', 'however', 'take', 'from', 'though', 'empty', 'third', 'therefore', 'via', 'yet', 'whose', 'meanwhile', 'sometimes', 'these', 'amount', 'his', \"'ve\", 'several', 'former', 'each', 'almost', 'yourself', 'by', 'whole', 'whence', 'nobody', 'thereafter', 'besides', 'something', '‘d', 'anywhere', 'fifteen', 'already', 'put', 'last', 'am', 'either', 'four', 'towards', 'neither', 'others', 'becomes', 'still', 'which', 'once', 'before', 'six', 'who', 'often', 'why', 'yourselves', 'rather', 'everywhere', 'the', 'him', 'again', 'eight', 'own', 'nor', 'say', 'many', 'now', 'using', 'myself', 'do', 'is', 'with', 'a', 'whither', 'namely', 'due', 'together', 'twenty', 'few', 'eleven', 'yours', 'whom', 'somewhere', 'along', 'anyone', 'both', 'nowhere', 'we', 'amongst', 'only', 'herself', 'most', 'noone', 'go', 'never', 'might', 'full', 'me', 'wherein', 'sometime', 'always', 'same', 'being', 'under', 'it', 'such', 'except', 'if', 'else', 'not', 'forty', 'across', 'may', 'could', 'moreover', 'five', 'without', 'please', 'their', '‘s', 'mine', 'beforehand', 'hereupon', 'much', 'those', 'our', 'how', 'seemed', 'of', 'although', 'keep', 'behind', 'none', 'around', 'after', 'upon', 'been', 'during', 'over', \"n't\", 'wherever', 'as', 'but', 'nevertheless', 'they', 'latter', '’s', 'indeed', 'everyone', 'any', 'can', \"'s\", 'ten', 'call', 'therein', 'another', 'because', 'thru', 'and', 'regarding', 'thence', 'toward', 'per', 'have', 'quite', 'further', 'off', 'there', 'until', 'whatever', 'beside'}\n"
          ]
        }
      ]
    },
    {
      "cell_type": "markdown",
      "source": [
        "# Bag-of-words\n",
        "С помощью scikit learn собираем BoW-вектор"
      ],
      "metadata": {
        "tags": [],
        "cell_id": "00030-5a98eefa-5906-4343-908a-6b3b89dd6b68",
        "deepnote_cell_type": "markdown",
        "id": "z1V_W2DbxAIw"
      }
    },
    {
      "cell_type": "code",
      "metadata": {
        "tags": [],
        "deepnote_to_be_reexecuted": false,
        "source_hash": "2391edbe",
        "execution_start": 1633731311841,
        "execution_millis": 53,
        "allow_embed": "code_output",
        "cell_id": "00031-665c5512-5976-4100-bbc8-bfd943240051",
        "deepnote_cell_type": "code",
        "id": "WdnzsDBFxAIx"
      },
      "source": [
        "from sklearn.feature_extraction.text import CountVectorizer\n",
        "bow_vector = CountVectorizer(tokenizer = spacy_tokenizer, ngram_range=(1,1))"
      ],
      "execution_count": 10,
      "outputs": []
    },
    {
      "cell_type": "code",
      "metadata": {
        "tags": [],
        "deepnote_to_be_reexecuted": false,
        "source_hash": "4f989e18",
        "execution_start": 1633731311895,
        "execution_millis": 0,
        "allow_embed": "code",
        "cell_id": "00033-dbf1d77a-5ae3-48f2-962c-7d6cd9b8f1bf",
        "deepnote_cell_type": "code",
        "id": "xCZJuKh5xAIx"
      },
      "source": [
        "from sklearn.base import TransformerMixin\n",
        "from sklearn.pipeline import Pipeline\n",
        "\n",
        "# класс-трансформатор для преобработки текста\n",
        "class cleaner(TransformerMixin):\n",
        "    def transform(self, X, **transform_params):\n",
        "        return [text.strip().lower() for text in X]\n",
        "\n",
        "    def fit(self, X, y=None, **fit_params):\n",
        "        return self\n",
        "\n",
        "    def get_params(self, deep=True):\n",
        "        return {}"
      ],
      "execution_count": 25,
      "outputs": []
    },
    {
      "cell_type": "markdown",
      "source": [
        "Далее будем строить пайплайны для различных классификаторов и выведем значения метрик для каждой из них:"
      ],
      "metadata": {
        "id": "j-kj49WxQMci"
      }
    },
    {
      "cell_type": "markdown",
      "source": [
        "## Статистические классификаторы\n",
        "Обучаем статистические модели (наивный байесовский классификатор, логистическая регрессия, SVM)."
      ],
      "metadata": {
        "tags": [],
        "cell_id": "00034-25462b11-ab94-4024-9816-57a02a987717",
        "deepnote_cell_type": "markdown",
        "id": "mMLb18xHxAIx"
      }
    },
    {
      "cell_type": "code",
      "metadata": {
        "tags": [],
        "deepnote_to_be_reexecuted": false,
        "source_hash": "7db4eb4d",
        "execution_start": 1633731311955,
        "execution_millis": 3184,
        "allow_embed": "code",
        "cell_id": "00036-385d7b0c-098d-46c4-bb42-0e403910d135",
        "deepnote_cell_type": "code",
        "colab": {
          "base_uri": "https://localhost:8080/"
        },
        "id": "vR8kl_L0xAIx",
        "outputId": "afe2bd4d-2852-47c1-d81d-c2acc1fa8a8e"
      },
      "source": [
        "# Наивный Байес\n",
        "from sklearn.naive_bayes import MultinomialNB\n",
        "classifier = MultinomialNB()\n",
        "\n",
        "pipe_NB = Pipeline([(\"cleaner\", cleaner()),\n",
        "                 ('vectorizer', bow_vector),\n",
        "                 ('classifier', classifier)])\n",
        "\n",
        "# обучаем и предсказываем\n",
        "pipe_NB.fit(X_train,y_train)\n",
        "predicted = pipe_NB.predict(X_test)\n",
        "\n",
        "# выводим метрики\n",
        "print(\"Наивный байесовский класификатор :\\n\")\n",
        "print(classification_report(y_test, predicted, target_names = ['North America','South/Middle America','Europe','Asia']))"
      ],
      "execution_count": 26,
      "outputs": [
        {
          "output_type": "stream",
          "name": "stdout",
          "text": [
            "Наивный байесовский класификатор :\n",
            "\n",
            "                      precision    recall  f1-score   support\n",
            "\n",
            "       North America       0.82      0.90      0.86        10\n",
            "South/Middle America       0.42      0.89      0.57         9\n",
            "              Europe       0.94      0.86      0.90       108\n",
            "                Asia       0.67      0.55      0.60        11\n",
            "\n",
            "            accuracy                           0.84       138\n",
            "           macro avg       0.71      0.80      0.73       138\n",
            "        weighted avg       0.88      0.84      0.85       138\n",
            "\n"
          ]
        }
      ]
    },
    {
      "cell_type": "code",
      "metadata": {
        "tags": [],
        "deepnote_to_be_reexecuted": true,
        "source_hash": "23f46f06",
        "execution_start": 1632765923358,
        "execution_millis": 405054,
        "allow_embed": "code",
        "cell_id": "00037-5eefb604-7f12-44a7-87d3-b095a104c926",
        "deepnote_cell_type": "code",
        "colab": {
          "base_uri": "https://localhost:8080/"
        },
        "id": "Teo7Id1HxAIy",
        "outputId": "c3f8629d-aebd-4723-fc40-c72669160802"
      },
      "source": [
        "# Логистическая регрессия\n",
        "from sklearn.linear_model import LogisticRegression\n",
        "classifier_log = LogisticRegression()\n",
        "\n",
        "\n",
        "pipe_log = Pipeline([(\"cleaner\", cleaner()),\n",
        "                 ('vectorizer', bow_vector),\n",
        "                 ('classifier', classifier_log)])\n",
        "\n",
        "pipe_log.fit(X_train,y_train)\n",
        "predicted_log = pipe_log.predict(X_test)\n",
        "\n",
        "print(\"Логистическая регрессия:\\n\")\n",
        "print(classification_report(y_test, predicted_log, target_names = ['North America','South/Middle America','Europe','Asia']))"
      ],
      "execution_count": null,
      "outputs": [
        {
          "output_type": "stream",
          "name": "stderr",
          "text": [
            "/usr/local/lib/python3.7/dist-packages/sklearn/linear_model/_logistic.py:818: ConvergenceWarning: lbfgs failed to converge (status=1):\n",
            "STOP: TOTAL NO. of ITERATIONS REACHED LIMIT.\n",
            "\n",
            "Increase the number of iterations (max_iter) or scale the data as shown in:\n",
            "    https://scikit-learn.org/stable/modules/preprocessing.html\n",
            "Please also refer to the documentation for alternative solver options:\n",
            "    https://scikit-learn.org/stable/modules/linear_model.html#logistic-regression\n",
            "  extra_warning_msg=_LOGISTIC_SOLVER_CONVERGENCE_MSG,\n"
          ]
        },
        {
          "output_type": "stream",
          "name": "stdout",
          "text": [
            "Логистическая регрессия:\n",
            "\n",
            "                      precision    recall  f1-score   support\n",
            "\n",
            "       North America       1.00      0.80      0.89        10\n",
            "South/Middle America       0.29      0.44      0.35         9\n",
            "              Europe       0.88      0.89      0.88       108\n",
            "                Asia       0.71      0.45      0.56        11\n",
            "\n",
            "            accuracy                           0.82       138\n",
            "           macro avg       0.72      0.65      0.67       138\n",
            "        weighted avg       0.84      0.82      0.82       138\n",
            "\n"
          ]
        }
      ]
    },
    {
      "cell_type": "code",
      "metadata": {
        "tags": [],
        "deepnote_to_be_reexecuted": true,
        "source_hash": "36c5042d",
        "execution_start": 1632766366941,
        "execution_millis": 1576341,
        "allow_embed": "code",
        "cell_id": "00038-d168c64c-8122-492f-96e7-22148a74a908",
        "deepnote_cell_type": "code",
        "colab": {
          "base_uri": "https://localhost:8080/"
        },
        "id": "U0QVcOrixAIy",
        "outputId": "910ac7bb-c01d-44e9-b2a4-342723a7e176"
      },
      "source": [
        "# SVM\n",
        "from sklearn.svm import SVC\n",
        "classifier_svm = SVC()\n",
        "\n",
        "pipe_svm = Pipeline([(\"cleaner\", cleaner()),\n",
        "                 ('vectorizer', bow_vector),\n",
        "                 ('classifier', classifier_svm)])\n",
        "\n",
        "pipe_svm.fit(X_train,y_train)\n",
        "predicted_svm = pipe_svm.predict(X_test)\n",
        "\n",
        "print(\"Метод опорных векторов:\\n\")\n",
        "print(classification_report(y_test, predicted_svm, target_names = ['North America','South/Middle America','Europe','Asia']))"
      ],
      "execution_count": null,
      "outputs": [
        {
          "output_type": "stream",
          "name": "stdout",
          "text": [
            "Метод опорных векторов:\n",
            "\n",
            "                      precision    recall  f1-score   support\n",
            "\n",
            "       North America       1.00      0.30      0.46        10\n",
            "South/Middle America       1.00      0.11      0.20         9\n",
            "              Europe       0.81      1.00      0.89       108\n",
            "                Asia       0.00      0.00      0.00        11\n",
            "\n",
            "            accuracy                           0.81       138\n",
            "           macro avg       0.70      0.35      0.39       138\n",
            "        weighted avg       0.77      0.81      0.75       138\n",
            "\n"
          ]
        },
        {
          "output_type": "stream",
          "name": "stderr",
          "text": [
            "/usr/local/lib/python3.7/dist-packages/sklearn/metrics/_classification.py:1318: UndefinedMetricWarning: Precision and F-score are ill-defined and being set to 0.0 in labels with no predicted samples. Use `zero_division` parameter to control this behavior.\n",
            "  _warn_prf(average, modifier, msg_start, len(result))\n",
            "/usr/local/lib/python3.7/dist-packages/sklearn/metrics/_classification.py:1318: UndefinedMetricWarning: Precision and F-score are ill-defined and being set to 0.0 in labels with no predicted samples. Use `zero_division` parameter to control this behavior.\n",
            "  _warn_prf(average, modifier, msg_start, len(result))\n",
            "/usr/local/lib/python3.7/dist-packages/sklearn/metrics/_classification.py:1318: UndefinedMetricWarning: Precision and F-score are ill-defined and being set to 0.0 in labels with no predicted samples. Use `zero_division` parameter to control this behavior.\n",
            "  _warn_prf(average, modifier, msg_start, len(result))\n"
          ]
        }
      ]
    },
    {
      "cell_type": "markdown",
      "source": [
        "## Нейросетевые модели\n",
        "Применим one-hot encoding для каждого класса:"
      ],
      "metadata": {
        "tags": [],
        "cell_id": "00043-c4901172-a1db-461a-997e-9902753b8794",
        "deepnote_cell_type": "markdown",
        "id": "BFNdgWkyxAIz"
      }
    },
    {
      "cell_type": "code",
      "metadata": {
        "tags": [],
        "cell_id": "00046-2e53aa6e-0c80-4ccc-9aff-a853a49b68f1",
        "deepnote_cell_type": "code",
        "id": "XsCd17PuxAIz"
      },
      "source": [
        "def preprocess(X, y, embed):\n",
        "\n",
        "    data = tuple(zip(X.tolist(), y.tolist())) \n",
        "    \n",
        "    # загружаем английскую библиотеку из SpaCy\n",
        "    nlp=spacy.load(embed)\n",
        "    docs = []\n",
        "\n",
        "    # One-hot encoding\n",
        "    # nlp.pipe возвращает объекты Doc, где атрибут cats хранит словарь\n",
        "    # с метками и результатами предсказания\n",
        "    for doc, label in tqdm(nlp.pipe(data, as_tuples=True), total = len(data)):\n",
        "        doc.cats['north_america'] = 0\n",
        "        doc.cats['south_america'] = 0\n",
        "        doc.cats['europe'] = 0\n",
        "        doc.cats['asia'] = 0\n",
        "        if label==0:\n",
        "            doc.cats['asia'] = 1\n",
        "        elif label==1:\n",
        "            doc.cats['europe'] = 1\n",
        "        elif label==2:\n",
        "            doc.cats['north_america'] = 1\n",
        "        elif label==3:\n",
        "            doc.cats['south_america'] = 1\n",
        "        \n",
        "        docs.append(doc)\n",
        "    return docs\n"
      ],
      "execution_count": null,
      "outputs": []
    },
    {
      "cell_type": "markdown",
      "source": [
        "Добавляем признаки с классами для тестовой и обучающей выборок и сохраняем на диске для дальнейшего обучения с помощью SpaCy."
      ],
      "metadata": {
        "tags": [],
        "cell_id": "00047-ae7714bd-2e42-4115-b8df-09fbe3636ddd",
        "deepnote_cell_type": "markdown",
        "id": "ShKjDy64xAI0"
      }
    },
    {
      "cell_type": "code",
      "metadata": {
        "tags": [],
        "cell_id": "00052-5eb2172b-75a0-485d-a6a6-e33b8791c944",
        "deepnote_cell_type": "code",
        "colab": {
          "base_uri": "https://localhost:8080/",
          "height": 81,
          "referenced_widgets": [
            "13df4086d6ef44aa95b5dc7cd59fc922",
            "c2c665fab9fb432fb84a3d291899a372",
            "1c673e3eac6a4617aab12c5def4cca93",
            "f124e79e3c7042ecb698dc0c2bc2314f",
            "8416cca251b44cb99967f3aee4d28c4e",
            "1bdcdc0b2bd34e28b1de398ee22a28b4",
            "7981b9a023464d63bf8e3eb3a276d3f3",
            "6674cdb3d53c40b29b1613ad5dff65da",
            "9c2614fba32f40cca7a7c8a17888d162",
            "9fcfcddc38e44ce794933d3314570425",
            "1af38ed269f8493f94d3cf23d1882dec",
            "00e31cbfec5740338741e8c368d06bb8",
            "dc2401ace3ed49ef987f52f36bf91de0",
            "99a71091dc704b62a2f445a82f501cda",
            "3661abc9246340729a00aab3db915e8c",
            "538c65276fc34bc0893feb34b0122655",
            "e2b3ee1dcc17429fb1d179c508afd518",
            "ab5d1848ea69485aacdab8b9bd134b41",
            "62e7567eaf6e4c98b1ece126242f6eb1",
            "0014ca7fab8d4f6ea53293f31f1a8b97",
            "f0e04068a74e45dea6ffd79450a779f3",
            "aa3944718e7143db886760e82bbb35da"
          ]
        },
        "id": "LKqEh4YexAI0",
        "outputId": "a10b4b0c-a0d1-4fcd-a565-69bf7299db78"
      },
      "source": [
        "# применяем one-hot encoding к обучающей и тестовой выборкам\n",
        "train_docs = preprocess(X_train, y_train,\"en_core_web_sm\")\n",
        "doc_bin = DocBin(docs=train_docs)\n",
        "doc_bin.to_disk(\"/content/drive/MyDrive/recipes/data/spacy_data/textcat_train.spacy\")\n",
        "\n",
        "test_docs = preprocess(X_test, y_test,\"en_core_web_sm\")\n",
        "doc_bin = DocBin(docs=test_docs)\n",
        "doc_bin.to_disk(\"/content/drive/MyDrive/recipes/data/spacy_data/textcat_valid.spacy\")"
      ],
      "execution_count": null,
      "outputs": [
        {
          "output_type": "display_data",
          "data": {
            "text/plain": [
              "  0%|          | 0/1242 [00:00<?, ?it/s]"
            ],
            "application/vnd.jupyter.widget-view+json": {
              "version_major": 2,
              "version_minor": 0,
              "model_id": "13df4086d6ef44aa95b5dc7cd59fc922"
            }
          },
          "metadata": {}
        },
        {
          "output_type": "display_data",
          "data": {
            "text/plain": [
              "  0%|          | 0/138 [00:00<?, ?it/s]"
            ],
            "application/vnd.jupyter.widget-view+json": {
              "version_major": 2,
              "version_minor": 0,
              "model_id": "00e31cbfec5740338741e8c368d06bb8"
            }
          },
          "metadata": {}
        }
      ]
    },
    {
      "cell_type": "markdown",
      "source": [
        "### Обучение модели"
      ],
      "metadata": {
        "tags": [],
        "cell_id": "00053-8193d338-7994-43b8-ade9-5e1fca1c897a",
        "deepnote_cell_type": "markdown",
        "id": "-0c0PVfaxAI0"
      }
    },
    {
      "cell_type": "code",
      "metadata": {
        "tags": [],
        "cell_id": "00053-5a662ade-4370-43e0-88d4-d3911860d35c",
        "deepnote_cell_type": "code",
        "colab": {
          "base_uri": "https://localhost:8080/"
        },
        "id": "n8gc-dCIxAI1",
        "outputId": "202a3539-ef56-4c59-8c6a-696b57fd8807"
      },
      "source": [
        "train_loc = \"/content/drive/MyDrive/recipes/data/spacy_data/textcat_train.spacy\"\n",
        "dev_loc = \"/content/drive/MyDrive/recipes/data/spacy_data/textcat_valid.spacy\"\n",
        "\n",
        "# загружаем en_core_web_sm и обучающие данные\n",
        "nlp = spacy.load('en_core_web_sm')\n",
        "doc_bin = DocBin().from_disk(train_loc)\n",
        "docs = list(doc_bin.get_docs(nlp.vocab))\n",
        "entities = 0\n",
        "\n",
        "for doc in docs:\n",
        "    entities += len(doc.ents)\n",
        "print(f\"TRAIN docs: {len(docs)} with {entities} entities\")\n",
        "\n",
        "# загружаем тестовые данные\n",
        "doc_bin = DocBin().from_disk(dev_loc)\n",
        "docs = list(doc_bin.get_docs(nlp.vocab))\n",
        "entities = 0\n",
        "\n",
        "for doc in docs:\n",
        "    entities += len(doc.ents)\n",
        "print(f\"DEV docs: {len(docs)} with {entities} entities\")"
      ],
      "execution_count": null,
      "outputs": [
        {
          "output_type": "stream",
          "name": "stdout",
          "text": [
            "TRAIN docs: 1242 with 7427 entities\n",
            "DEV docs: 138 with 871 entities\n"
          ]
        }
      ]
    },
    {
      "cell_type": "markdown",
      "source": [
        "Возьмем стандартный конфиг для обучения нейросети (см. rкартинку с инфо из base_config.cfg).\n",
        "Модель совмещает в себе модуль трансформера (roberta-base) и линейный bag-of-words модуль."
      ],
      "metadata": {
        "id": "vgw7hMYwgTXr"
      }
    },
    {
      "cell_type": "code",
      "source": [
        "from IPython.display import Image\n",
        "Image(filename='/content/drive/MyDrive/spicy_config.png')"
      ],
      "metadata": {
        "colab": {
          "base_uri": "https://localhost:8080/",
          "height": 495
        },
        "id": "5iMf09NusTO2",
        "outputId": "12798bdd-2cbd-4012-d198-2610f88cd05a"
      },
      "execution_count": null,
      "outputs": [
        {
          "output_type": "execute_result",
          "data": {
            "text/plain": [
              "<IPython.core.display.Image object>"
            ],
            "image/png": "[encoded data removed]"
          },
          "metadata": {},
          "execution_count": 6
        }
      ]
    },
    {
      "cell_type": "code",
      "metadata": {
        "tags": [],
        "cell_id": "00055-04394ca4-0c4e-47ff-8a7c-87cecb4309ec",
        "deepnote_cell_type": "code",
        "colab": {
          "base_uri": "https://localhost:8080/"
        },
        "id": "46R1FN8HxAI1",
        "outputId": "ee63e6cf-5855-4f15-bbc5-1a901fb7d323"
      },
      "source": [
        "!python -m spacy init fill-config /content/drive/MyDrive/recipes/config/base_config.cfg /content/drive/MyDrive/recipes/config/config.cfg \n",
        "!python -m spacy train /content/drive/MyDrive/recipes/config/config.cfg --verbose --output /content/drive/MyDrive/recipes/data/textcat_output --paths.train /content/drive/MyDrive/recipes/data/spacy_data/textcat_train.spacy --paths.dev /content/drive/MyDrive/recipes/data/spacy_data/textcat_valid.spacy"
      ],
      "execution_count": null,
      "outputs": [
        {
          "output_type": "stream",
          "name": "stdout",
          "text": [
            "[2022-03-12 10:21:31,917] [DEBUG] Config overrides from CLI: ['paths.train', 'paths.dev']\n",
            "\u001b[38;5;4mℹ Saving to output directory:\n",
            "/content/drive/MyDrive/recipes/data/textcat_output\u001b[0m\n",
            "\u001b[38;5;4mℹ Using GPU: 0\u001b[0m\n",
            "\u001b[1m\n",
            "=========================== Initializing pipeline ===========================\u001b[0m\n",
            "[2022-03-12 10:21:34,696] [INFO] Set up nlp object from config\n",
            "[2022-03-12 10:21:34,708] [DEBUG] Loading corpus from path: /content/drive/MyDrive/recipes/data/spacy_data/textcat_valid.spacy\n",
            "[2022-03-12 10:21:34,709] [DEBUG] Loading corpus from path: /content/drive/MyDrive/recipes/data/spacy_data/textcat_train.spacy\n",
            "[2022-03-12 10:21:34,709] [INFO] Pipeline: ['textcat']\n",
            "[2022-03-12 10:21:34,713] [INFO] Created vocabulary\n",
            "[2022-03-12 10:21:34,715] [INFO] Finished initializing nlp object\n",
            "[2022-03-12 10:21:38,627] [INFO] Initialized pipeline components: ['textcat']\n",
            "\u001b[38;5;2m✔ Initialized pipeline\u001b[0m\n",
            "\u001b[1m\n",
            "============================= Training pipeline =============================\u001b[0m\n",
            "[2022-03-12 10:21:38,639] [DEBUG] Loading corpus from path: /content/drive/MyDrive/recipes/data/spacy_data/textcat_valid.spacy\n",
            "[2022-03-12 10:21:38,640] [DEBUG] Loading corpus from path: /content/drive/MyDrive/recipes/data/spacy_data/textcat_train.spacy\n",
            "[2022-03-12 10:21:38,668] [DEBUG] Removed existing output directory: /content/drive/MyDrive/recipes/data/textcat_output/model-best\n",
            "[2022-03-12 10:21:38,697] [DEBUG] Removed existing output directory: /content/drive/MyDrive/recipes/data/textcat_output/model-last\n",
            "\u001b[38;5;4mℹ Pipeline: ['textcat']\u001b[0m\n",
            "\u001b[38;5;4mℹ Initial learn rate: 0.0\u001b[0m\n",
            "E    #       LOSS TEXTCAT  CATS_SCORE  SCORE \n",
            "---  ------  ------------  ----------  ------\n",
            "  0       0          0.08        0.00    0.00\n",
            "  2     200          3.72       15.92    0.16\n",
            "  4     400          3.05       19.16    0.19\n",
            "  6     600          1.24       19.58    0.20\n",
            "  8     800          1.28       19.76    0.20\n",
            " 10    1000          1.64       19.81    0.20\n",
            " 12    1200          1.10       20.14    0.20\n",
            " 14    1400          0.86       25.62    0.26\n",
            " 17    1600          0.77       26.03    0.26\n",
            " 19    1800          0.74       30.91    0.31\n",
            " 21    2000          0.60       30.91    0.31\n",
            " 23    2200          0.75       30.77    0.31\n",
            " 25    2400          0.52       31.04    0.31\n",
            " 27    2600          0.52       31.20    0.31\n",
            " 29    2800          0.96       31.30    0.31\n",
            " 31    3000          0.52       35.09    0.35\n",
            " 34    3200          0.58       34.99    0.35\n",
            " 36    3400          0.47       34.89    0.35\n",
            " 38    3600          0.39       35.09    0.35\n",
            " 40    3800          0.33       35.12    0.35\n",
            " 42    4000          0.37       35.02    0.35\n",
            " 44    4200          0.56       35.25    0.35\n",
            " 46    4400          0.56       35.25    0.35\n",
            " 48    4600          0.25       35.25    0.35\n",
            " 51    4800          0.25       35.25    0.35\n",
            " 53    5000          0.22       35.25    0.35\n",
            " 55    5200          0.27       39.55    0.40\n",
            " 57    5400          0.22       39.42    0.39\n",
            " 59    5600          0.20       39.42    0.39\n",
            " 61    5800          0.32       39.42    0.39\n",
            " 63    6000          0.23       42.62    0.43\n",
            " 66    6200          0.19       42.62    0.43\n",
            " 68    6400          0.25       42.75    0.43\n",
            " 70    6600          0.15       42.78    0.43\n",
            " 72    6800          0.20       42.65    0.43\n",
            " 74    7000          0.18       42.75    0.43\n",
            " 76    7200          0.18       42.75    0.43\n",
            " 78    7400          0.16       42.75    0.43\n",
            " 80    7600          0.16       42.75    0.43\n",
            " 82    7800          0.14       42.88    0.43\n",
            " 85    8000          0.11       42.75    0.43\n",
            " 87    8200          0.11       42.75    0.43\n",
            " 89    8400          0.13       42.78    0.43\n",
            " 91    8600          0.13       42.78    0.43\n",
            " 93    8800          0.09       42.30    0.42\n",
            " 95    9000          0.09       42.88    0.43\n",
            " 97    9200          0.11       42.30    0.42\n",
            " 99    9400          0.10       42.42    0.42\n",
            "102    9600          0.08       42.30    0.42\n",
            "104    9800          0.11       42.30    0.42\n",
            "106   10000          0.08       42.45    0.42\n",
            "108   10200          0.09       42.42    0.42\n",
            "110   10400          0.09       42.42    0.42\n",
            "112   10600          0.07       42.55    0.43\n",
            "114   10800          0.07       42.42    0.42\n",
            "117   11000          0.08       42.42    0.42\n",
            "\u001b[38;5;2m✔ Saved pipeline to output directory\u001b[0m\n",
            "/content/drive/MyDrive/recipes/data/textcat_output/model-last\n"
          ]
        }
      ]
    },
    {
      "cell_type": "markdown",
      "source": [
        "Accuracy получился совсем небольшой - всего 0.43 против ~0.8 на статистических классификаторах."
      ],
      "metadata": {
        "tags": [],
        "cell_id": "00056-95ea9200-470d-41f8-ae42-c033a0626a5f",
        "deepnote_cell_type": "markdown",
        "id": "062jgsBuxAI1"
      }
    },
    {
      "cell_type": "markdown",
      "source": [
        "### Эксперименты\n",
        "\n",
        "Попробуем проверить насколько хорошо обученная модель справляется с предсказыванием родины рецепта из тестовой выборки, так же проверим на придуманном рецепте:"
      ],
      "metadata": {
        "tags": [],
        "cell_id": "00057-1d035aff-378c-4328-be26-44b1e34d4211",
        "deepnote_cell_type": "markdown",
        "id": "TkRvtXxBxAI5"
      }
    },
    {
      "cell_type": "code",
      "metadata": {
        "tags": [],
        "cell_id": "00058-e0a2216f-be62-4129-b208-b7f574696c1c",
        "deepnote_cell_type": "code",
        "colab": {
          "base_uri": "https://localhost:8080/"
        },
        "id": "b7oIVnRvxAI5",
        "outputId": "aba372d2-c1bc-430a-be73-5d8cc1b950da"
      },
      "source": [
        "nlp_model = spacy.load(\"/content/drive/MyDrive/recipes/data/textcat_output/model-best\")\n",
        "lab_dict = ['asia','europe','north america', 'south america']\n",
        "test_text = X_test.tolist()\n",
        "test_cats = y_test.tolist()\n",
        "doc_test = nlp_model(test_text[20])\n",
        "print(f\"Text: {test_text[20]}\")\n",
        "print(f\"Original cuisine: {lab_dict[int(test_cats[20])]}\")\n",
        "print(f\"Cuisine probabilities: {doc_test.cats}\") \n",
        "\n",
        "# проверим рецепт суши\n",
        "test_sample = 'Prepare rice by mixing cooked short-grain rice with seasoned vinegar. Cut the cucumber and the salmon in small stripes. \\\n",
        "Grab a handful of your prepared rice and place it on the nori. Spread the rice evenly onto nori sheet. \\\n",
        "Now, grab the nori and the bamboo mat together. Roll the bamboo mat over the filling so the extra space at the bottom touches the other side of the nori.'\n",
        "\n",
        "doc_test = nlp_model(test_sample)\n",
        "print(f\"Text: {test_sample}\")\n",
        "print(f\"Original cuisine: asia\")\n",
        "print(f\"Cuisine probabilities: {doc_test.cats}\") "
      ],
      "execution_count": 24,
      "outputs": [
        {
          "output_type": "stream",
          "name": "stdout",
          "text": [
            "Text: In a food processor (or blender should work) blend ricotta and cocoa powder until completely smooth. Transfer to a large bowl. Place egg whites, sugar, salt in a medium heatproof mixing bowl (metal) and place bowl on top of a pot of simmering water. Cook and whisk constantly until the sugar dissolves and the mixture is warm, about 3 minutes. Remove bowl from heat and beat with an electric mixer on high, until stiff peaks form (about 5 minutes). Using a rubber spatula, gently fold egg white mixture into the bowl with ricotta until well combined. Divide into 6 6 oz ramekins or small bowls and refrigerate at least 3 hours.\n",
            "Original cuisine: north america\n",
            "Cuisine probabilities: {'north_america': 0.8465431928634644, 'south_america': 0.048587460070848465, 'europe': 0.07360462099313736, 'asia': 0.031264763325452805}\n",
            "Text: Prepare rice by mixing cooked short-grain rice with seasoned vinegar. Cut the cucumber and the salmon in small stripes. Grab a handful of your prepared rice and place it on the nori. Spread the rice evenly onto nori sheet. Now, grab the nori and the bamboo mat together. Roll the bamboo mat over the filling so the extra space at the bottom touches the other side of the nori.\n",
            "Original cuisine: asia\n",
            "Cuisine probabilities: {'north_america': 0.2908705174922943, 'south_america': 0.16869057714939117, 'europe': 0.19174838066101074, 'asia': 0.3486905097961426}\n"
          ]
        }
      ]
    }
  ],
  "nbformat": 4,
  "nbformat_minor": 0,
  "metadata": {
    "orig_nbformat": 2,
    "deepnote": {
      "is_reactive": false
    },
    "deepnote_notebook_id": "51d91c4e-e64f-4bcb-b6c5-b9b54a5a23e5",
    "deepnote_execution_queue": [],
    "colab": {
      "name": "cuisine-classifier.ipynb",
      "provenance": [],
      "collapsed_sections": []
    },
    "language_info": {
      "name": "python"
    },
    "kernelspec": {
      "name": "python3",
      "display_name": "Python 3"
    },
    "accelerator": "GPU",
    "widgets": {
      "application/vnd.jupyter.widget-state+json": {
        "13df4086d6ef44aa95b5dc7cd59fc922": {
          "model_module": "@jupyter-widgets/controls",
          "model_name": "HBoxModel",
          "model_module_version": "1.5.0",
          "state": {
            "_dom_classes": [],
            "_model_module": "@jupyter-widgets/controls",
            "_model_module_version": "1.5.0",
            "_model_name": "HBoxModel",
            "_view_count": null,
            "_view_module": "@jupyter-widgets/controls",
            "_view_module_version": "1.5.0",
            "_view_name": "HBoxView",
            "box_style": "",
            "children": [
              "IPY_MODEL_c2c665fab9fb432fb84a3d291899a372",
              "IPY_MODEL_1c673e3eac6a4617aab12c5def4cca93",
              "IPY_MODEL_f124e79e3c7042ecb698dc0c2bc2314f"
            ],
            "layout": "IPY_MODEL_8416cca251b44cb99967f3aee4d28c4e"
          }
        },
        "c2c665fab9fb432fb84a3d291899a372": {
          "model_module": "@jupyter-widgets/controls",
          "model_name": "HTMLModel",
          "model_module_version": "1.5.0",
          "state": {
            "_dom_classes": [],
            "_model_module": "@jupyter-widgets/controls",
            "_model_module_version": "1.5.0",
            "_model_name": "HTMLModel",
            "_view_count": null,
            "_view_module": "@jupyter-widgets/controls",
            "_view_module_version": "1.5.0",
            "_view_name": "HTMLView",
            "description": "",
            "description_tooltip": null,
            "layout": "IPY_MODEL_1bdcdc0b2bd34e28b1de398ee22a28b4",
            "placeholder": "​",
            "style": "IPY_MODEL_7981b9a023464d63bf8e3eb3a276d3f3",
            "value": "100%"
          }
        },
        "1c673e3eac6a4617aab12c5def4cca93": {
          "model_module": "@jupyter-widgets/controls",
          "model_name": "FloatProgressModel",
          "model_module_version": "1.5.0",
          "state": {
            "_dom_classes": [],
            "_model_module": "@jupyter-widgets/controls",
            "_model_module_version": "1.5.0",
            "_model_name": "FloatProgressModel",
            "_view_count": null,
            "_view_module": "@jupyter-widgets/controls",
            "_view_module_version": "1.5.0",
            "_view_name": "ProgressView",
            "bar_style": "success",
            "description": "",
            "description_tooltip": null,
            "layout": "IPY_MODEL_6674cdb3d53c40b29b1613ad5dff65da",
            "max": 1242,
            "min": 0,
            "orientation": "horizontal",
            "style": "IPY_MODEL_9c2614fba32f40cca7a7c8a17888d162",
            "value": 1242
          }
        },
        "f124e79e3c7042ecb698dc0c2bc2314f": {
          "model_module": "@jupyter-widgets/controls",
          "model_name": "HTMLModel",
          "model_module_version": "1.5.0",
          "state": {
            "_dom_classes": [],
            "_model_module": "@jupyter-widgets/controls",
            "_model_module_version": "1.5.0",
            "_model_name": "HTMLModel",
            "_view_count": null,
            "_view_module": "@jupyter-widgets/controls",
            "_view_module_version": "1.5.0",
            "_view_name": "HTMLView",
            "description": "",
            "description_tooltip": null,
            "layout": "IPY_MODEL_9fcfcddc38e44ce794933d3314570425",
            "placeholder": "​",
            "style": "IPY_MODEL_1af38ed269f8493f94d3cf23d1882dec",
            "value": " 1242/1242 [00:18&lt;00:00, 67.09it/s]"
          }
        },
        "8416cca251b44cb99967f3aee4d28c4e": {
          "model_module": "@jupyter-widgets/base",
          "model_name": "LayoutModel",
          "model_module_version": "1.2.0",
          "state": {
            "_model_module": "@jupyter-widgets/base",
            "_model_module_version": "1.2.0",
            "_model_name": "LayoutModel",
            "_view_count": null,
            "_view_module": "@jupyter-widgets/base",
            "_view_module_version": "1.2.0",
            "_view_name": "LayoutView",
            "align_content": null,
            "align_items": null,
            "align_self": null,
            "border": null,
            "bottom": null,
            "display": null,
            "flex": null,
            "flex_flow": null,
            "grid_area": null,
            "grid_auto_columns": null,
            "grid_auto_flow": null,
            "grid_auto_rows": null,
            "grid_column": null,
            "grid_gap": null,
            "grid_row": null,
            "grid_template_areas": null,
            "grid_template_columns": null,
            "grid_template_rows": null,
            "height": null,
            "justify_content": null,
            "justify_items": null,
            "left": null,
            "margin": null,
            "max_height": null,
            "max_width": null,
            "min_height": null,
            "min_width": null,
            "object_fit": null,
            "object_position": null,
            "order": null,
            "overflow": null,
            "overflow_x": null,
            "overflow_y": null,
            "padding": null,
            "right": null,
            "top": null,
            "visibility": null,
            "width": null
          }
        },
        "1bdcdc0b2bd34e28b1de398ee22a28b4": {
          "model_module": "@jupyter-widgets/base",
          "model_name": "LayoutModel",
          "model_module_version": "1.2.0",
          "state": {
            "_model_module": "@jupyter-widgets/base",
            "_model_module_version": "1.2.0",
            "_model_name": "LayoutModel",
            "_view_count": null,
            "_view_module": "@jupyter-widgets/base",
            "_view_module_version": "1.2.0",
            "_view_name": "LayoutView",
            "align_content": null,
            "align_items": null,
            "align_self": null,
            "border": null,
            "bottom": null,
            "display": null,
            "flex": null,
            "flex_flow": null,
            "grid_area": null,
            "grid_auto_columns": null,
            "grid_auto_flow": null,
            "grid_auto_rows": null,
            "grid_column": null,
            "grid_gap": null,
            "grid_row": null,
            "grid_template_areas": null,
            "grid_template_columns": null,
            "grid_template_rows": null,
            "height": null,
            "justify_content": null,
            "justify_items": null,
            "left": null,
            "margin": null,
            "max_height": null,
            "max_width": null,
            "min_height": null,
            "min_width": null,
            "object_fit": null,
            "object_position": null,
            "order": null,
            "overflow": null,
            "overflow_x": null,
            "overflow_y": null,
            "padding": null,
            "right": null,
            "top": null,
            "visibility": null,
            "width": null
          }
        },
        "7981b9a023464d63bf8e3eb3a276d3f3": {
          "model_module": "@jupyter-widgets/controls",
          "model_name": "DescriptionStyleModel",
          "model_module_version": "1.5.0",
          "state": {
            "_model_module": "@jupyter-widgets/controls",
            "_model_module_version": "1.5.0",
            "_model_name": "DescriptionStyleModel",
            "_view_count": null,
            "_view_module": "@jupyter-widgets/base",
            "_view_module_version": "1.2.0",
            "_view_name": "StyleView",
            "description_width": ""
          }
        },
        "6674cdb3d53c40b29b1613ad5dff65da": {
          "model_module": "@jupyter-widgets/base",
          "model_name": "LayoutModel",
          "model_module_version": "1.2.0",
          "state": {
            "_model_module": "@jupyter-widgets/base",
            "_model_module_version": "1.2.0",
            "_model_name": "LayoutModel",
            "_view_count": null,
            "_view_module": "@jupyter-widgets/base",
            "_view_module_version": "1.2.0",
            "_view_name": "LayoutView",
            "align_content": null,
            "align_items": null,
            "align_self": null,
            "border": null,
            "bottom": null,
            "display": null,
            "flex": null,
            "flex_flow": null,
            "grid_area": null,
            "grid_auto_columns": null,
            "grid_auto_flow": null,
            "grid_auto_rows": null,
            "grid_column": null,
            "grid_gap": null,
            "grid_row": null,
            "grid_template_areas": null,
            "grid_template_columns": null,
            "grid_template_rows": null,
            "height": null,
            "justify_content": null,
            "justify_items": null,
            "left": null,
            "margin": null,
            "max_height": null,
            "max_width": null,
            "min_height": null,
            "min_width": null,
            "object_fit": null,
            "object_position": null,
            "order": null,
            "overflow": null,
            "overflow_x": null,
            "overflow_y": null,
            "padding": null,
            "right": null,
            "top": null,
            "visibility": null,
            "width": null
          }
        },
        "9c2614fba32f40cca7a7c8a17888d162": {
          "model_module": "@jupyter-widgets/controls",
          "model_name": "ProgressStyleModel",
          "model_module_version": "1.5.0",
          "state": {
            "_model_module": "@jupyter-widgets/controls",
            "_model_module_version": "1.5.0",
            "_model_name": "ProgressStyleModel",
            "_view_count": null,
            "_view_module": "@jupyter-widgets/base",
            "_view_module_version": "1.2.0",
            "_view_name": "StyleView",
            "bar_color": null,
            "description_width": ""
          }
        },
        "9fcfcddc38e44ce794933d3314570425": {
          "model_module": "@jupyter-widgets/base",
          "model_name": "LayoutModel",
          "model_module_version": "1.2.0",
          "state": {
            "_model_module": "@jupyter-widgets/base",
            "_model_module_version": "1.2.0",
            "_model_name": "LayoutModel",
            "_view_count": null,
            "_view_module": "@jupyter-widgets/base",
            "_view_module_version": "1.2.0",
            "_view_name": "LayoutView",
            "align_content": null,
            "align_items": null,
            "align_self": null,
            "border": null,
            "bottom": null,
            "display": null,
            "flex": null,
            "flex_flow": null,
            "grid_area": null,
            "grid_auto_columns": null,
            "grid_auto_flow": null,
            "grid_auto_rows": null,
            "grid_column": null,
            "grid_gap": null,
            "grid_row": null,
            "grid_template_areas": null,
            "grid_template_columns": null,
            "grid_template_rows": null,
            "height": null,
            "justify_content": null,
            "justify_items": null,
            "left": null,
            "margin": null,
            "max_height": null,
            "max_width": null,
            "min_height": null,
            "min_width": null,
            "object_fit": null,
            "object_position": null,
            "order": null,
            "overflow": null,
            "overflow_x": null,
            "overflow_y": null,
            "padding": null,
            "right": null,
            "top": null,
            "visibility": null,
            "width": null
          }
        },
        "1af38ed269f8493f94d3cf23d1882dec": {
          "model_module": "@jupyter-widgets/controls",
          "model_name": "DescriptionStyleModel",
          "model_module_version": "1.5.0",
          "state": {
            "_model_module": "@jupyter-widgets/controls",
            "_model_module_version": "1.5.0",
            "_model_name": "DescriptionStyleModel",
            "_view_count": null,
            "_view_module": "@jupyter-widgets/base",
            "_view_module_version": "1.2.0",
            "_view_name": "StyleView",
            "description_width": ""
          }
        },
        "00e31cbfec5740338741e8c368d06bb8": {
          "model_module": "@jupyter-widgets/controls",
          "model_name": "HBoxModel",
          "model_module_version": "1.5.0",
          "state": {
            "_dom_classes": [],
            "_model_module": "@jupyter-widgets/controls",
            "_model_module_version": "1.5.0",
            "_model_name": "HBoxModel",
            "_view_count": null,
            "_view_module": "@jupyter-widgets/controls",
            "_view_module_version": "1.5.0",
            "_view_name": "HBoxView",
            "box_style": "",
            "children": [
              "IPY_MODEL_dc2401ace3ed49ef987f52f36bf91de0",
              "IPY_MODEL_99a71091dc704b62a2f445a82f501cda",
              "IPY_MODEL_3661abc9246340729a00aab3db915e8c"
            ],
            "layout": "IPY_MODEL_538c65276fc34bc0893feb34b0122655"
          }
        },
        "dc2401ace3ed49ef987f52f36bf91de0": {
          "model_module": "@jupyter-widgets/controls",
          "model_name": "HTMLModel",
          "model_module_version": "1.5.0",
          "state": {
            "_dom_classes": [],
            "_model_module": "@jupyter-widgets/controls",
            "_model_module_version": "1.5.0",
            "_model_name": "HTMLModel",
            "_view_count": null,
            "_view_module": "@jupyter-widgets/controls",
            "_view_module_version": "1.5.0",
            "_view_name": "HTMLView",
            "description": "",
            "description_tooltip": null,
            "layout": "IPY_MODEL_e2b3ee1dcc17429fb1d179c508afd518",
            "placeholder": "​",
            "style": "IPY_MODEL_ab5d1848ea69485aacdab8b9bd134b41",
            "value": "100%"
          }
        },
        "99a71091dc704b62a2f445a82f501cda": {
          "model_module": "@jupyter-widgets/controls",
          "model_name": "FloatProgressModel",
          "model_module_version": "1.5.0",
          "state": {
            "_dom_classes": [],
            "_model_module": "@jupyter-widgets/controls",
            "_model_module_version": "1.5.0",
            "_model_name": "FloatProgressModel",
            "_view_count": null,
            "_view_module": "@jupyter-widgets/controls",
            "_view_module_version": "1.5.0",
            "_view_name": "ProgressView",
            "bar_style": "success",
            "description": "",
            "description_tooltip": null,
            "layout": "IPY_MODEL_62e7567eaf6e4c98b1ece126242f6eb1",
            "max": 138,
            "min": 0,
            "orientation": "horizontal",
            "style": "IPY_MODEL_0014ca7fab8d4f6ea53293f31f1a8b97",
            "value": 138
          }
        },
        "3661abc9246340729a00aab3db915e8c": {
          "model_module": "@jupyter-widgets/controls",
          "model_name": "HTMLModel",
          "model_module_version": "1.5.0",
          "state": {
            "_dom_classes": [],
            "_model_module": "@jupyter-widgets/controls",
            "_model_module_version": "1.5.0",
            "_model_name": "HTMLModel",
            "_view_count": null,
            "_view_module": "@jupyter-widgets/controls",
            "_view_module_version": "1.5.0",
            "_view_name": "HTMLView",
            "description": "",
            "description_tooltip": null,
            "layout": "IPY_MODEL_f0e04068a74e45dea6ffd79450a779f3",
            "placeholder": "​",
            "style": "IPY_MODEL_aa3944718e7143db886760e82bbb35da",
            "value": " 138/138 [00:02&lt;00:00,  2.30s/it]"
          }
        },
        "538c65276fc34bc0893feb34b0122655": {
          "model_module": "@jupyter-widgets/base",
          "model_name": "LayoutModel",
          "model_module_version": "1.2.0",
          "state": {
            "_model_module": "@jupyter-widgets/base",
            "_model_module_version": "1.2.0",
            "_model_name": "LayoutModel",
            "_view_count": null,
            "_view_module": "@jupyter-widgets/base",
            "_view_module_version": "1.2.0",
            "_view_name": "LayoutView",
            "align_content": null,
            "align_items": null,
            "align_self": null,
            "border": null,
            "bottom": null,
            "display": null,
            "flex": null,
            "flex_flow": null,
            "grid_area": null,
            "grid_auto_columns": null,
            "grid_auto_flow": null,
            "grid_auto_rows": null,
            "grid_column": null,
            "grid_gap": null,
            "grid_row": null,
            "grid_template_areas": null,
            "grid_template_columns": null,
            "grid_template_rows": null,
            "height": null,
            "justify_content": null,
            "justify_items": null,
            "left": null,
            "margin": null,
            "max_height": null,
            "max_width": null,
            "min_height": null,
            "min_width": null,
            "object_fit": null,
            "object_position": null,
            "order": null,
            "overflow": null,
            "overflow_x": null,
            "overflow_y": null,
            "padding": null,
            "right": null,
            "top": null,
            "visibility": null,
            "width": null
          }
        },
        "e2b3ee1dcc17429fb1d179c508afd518": {
          "model_module": "@jupyter-widgets/base",
          "model_name": "LayoutModel",
          "model_module_version": "1.2.0",
          "state": {
            "_model_module": "@jupyter-widgets/base",
            "_model_module_version": "1.2.0",
            "_model_name": "LayoutModel",
            "_view_count": null,
            "_view_module": "@jupyter-widgets/base",
            "_view_module_version": "1.2.0",
            "_view_name": "LayoutView",
            "align_content": null,
            "align_items": null,
            "align_self": null,
            "border": null,
            "bottom": null,
            "display": null,
            "flex": null,
            "flex_flow": null,
            "grid_area": null,
            "grid_auto_columns": null,
            "grid_auto_flow": null,
            "grid_auto_rows": null,
            "grid_column": null,
            "grid_gap": null,
            "grid_row": null,
            "grid_template_areas": null,
            "grid_template_columns": null,
            "grid_template_rows": null,
            "height": null,
            "justify_content": null,
            "justify_items": null,
            "left": null,
            "margin": null,
            "max_height": null,
            "max_width": null,
            "min_height": null,
            "min_width": null,
            "object_fit": null,
            "object_position": null,
            "order": null,
            "overflow": null,
            "overflow_x": null,
            "overflow_y": null,
            "padding": null,
            "right": null,
            "top": null,
            "visibility": null,
            "width": null
          }
        },
        "ab5d1848ea69485aacdab8b9bd134b41": {
          "model_module": "@jupyter-widgets/controls",
          "model_name": "DescriptionStyleModel",
          "model_module_version": "1.5.0",
          "state": {
            "_model_module": "@jupyter-widgets/controls",
            "_model_module_version": "1.5.0",
            "_model_name": "DescriptionStyleModel",
            "_view_count": null,
            "_view_module": "@jupyter-widgets/base",
            "_view_module_version": "1.2.0",
            "_view_name": "StyleView",
            "description_width": ""
          }
        },
        "62e7567eaf6e4c98b1ece126242f6eb1": {
          "model_module": "@jupyter-widgets/base",
          "model_name": "LayoutModel",
          "model_module_version": "1.2.0",
          "state": {
            "_model_module": "@jupyter-widgets/base",
            "_model_module_version": "1.2.0",
            "_model_name": "LayoutModel",
            "_view_count": null,
            "_view_module": "@jupyter-widgets/base",
            "_view_module_version": "1.2.0",
            "_view_name": "LayoutView",
            "align_content": null,
            "align_items": null,
            "align_self": null,
            "border": null,
            "bottom": null,
            "display": null,
            "flex": null,
            "flex_flow": null,
            "grid_area": null,
            "grid_auto_columns": null,
            "grid_auto_flow": null,
            "grid_auto_rows": null,
            "grid_column": null,
            "grid_gap": null,
            "grid_row": null,
            "grid_template_areas": null,
            "grid_template_columns": null,
            "grid_template_rows": null,
            "height": null,
            "justify_content": null,
            "justify_items": null,
            "left": null,
            "margin": null,
            "max_height": null,
            "max_width": null,
            "min_height": null,
            "min_width": null,
            "object_fit": null,
            "object_position": null,
            "order": null,
            "overflow": null,
            "overflow_x": null,
            "overflow_y": null,
            "padding": null,
            "right": null,
            "top": null,
            "visibility": null,
            "width": null
          }
        },
        "0014ca7fab8d4f6ea53293f31f1a8b97": {
          "model_module": "@jupyter-widgets/controls",
          "model_name": "ProgressStyleModel",
          "model_module_version": "1.5.0",
          "state": {
            "_model_module": "@jupyter-widgets/controls",
            "_model_module_version": "1.5.0",
            "_model_name": "ProgressStyleModel",
            "_view_count": null,
            "_view_module": "@jupyter-widgets/base",
            "_view_module_version": "1.2.0",
            "_view_name": "StyleView",
            "bar_color": null,
            "description_width": ""
          }
        },
        "f0e04068a74e45dea6ffd79450a779f3": {
          "model_module": "@jupyter-widgets/base",
          "model_name": "LayoutModel",
          "model_module_version": "1.2.0",
          "state": {
            "_model_module": "@jupyter-widgets/base",
            "_model_module_version": "1.2.0",
            "_model_name": "LayoutModel",
            "_view_count": null,
            "_view_module": "@jupyter-widgets/base",
            "_view_module_version": "1.2.0",
            "_view_name": "LayoutView",
            "align_content": null,
            "align_items": null,
            "align_self": null,
            "border": null,
            "bottom": null,
            "display": null,
            "flex": null,
            "flex_flow": null,
            "grid_area": null,
            "grid_auto_columns": null,
            "grid_auto_flow": null,
            "grid_auto_rows": null,
            "grid_column": null,
            "grid_gap": null,
            "grid_row": null,
            "grid_template_areas": null,
            "grid_template_columns": null,
            "grid_template_rows": null,
            "height": null,
            "justify_content": null,
            "justify_items": null,
            "left": null,
            "margin": null,
            "max_height": null,
            "max_width": null,
            "min_height": null,
            "min_width": null,
            "object_fit": null,
            "object_position": null,
            "order": null,
            "overflow": null,
            "overflow_x": null,
            "overflow_y": null,
            "padding": null,
            "right": null,
            "top": null,
            "visibility": null,
            "width": null
          }
        },
        "aa3944718e7143db886760e82bbb35da": {
          "model_module": "@jupyter-widgets/controls",
          "model_name": "DescriptionStyleModel",
          "model_module_version": "1.5.0",
          "state": {
            "_model_module": "@jupyter-widgets/controls",
            "_model_module_version": "1.5.0",
            "_model_name": "DescriptionStyleModel",
            "_view_count": null,
            "_view_module": "@jupyter-widgets/base",
            "_view_module_version": "1.2.0",
            "_view_name": "StyleView",
            "description_width": ""
          }
        }
      }
    }
  }
}